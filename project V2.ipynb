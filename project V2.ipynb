{
  "nbformat": 4,
  "nbformat_minor": 0,
  "metadata": {
    "colab": {
      "provenance": []
    },
    "kernelspec": {
      "name": "python3",
      "display_name": "Python 3"
    },
    "language_info": {
      "name": "python"
    }
  },
  "cells": [
    {
      "cell_type": "code",
      "execution_count": 1,
      "metadata": {
        "colab": {
          "base_uri": "https://localhost:8080/"
        },
        "id": "XZ-omBWXCbMD",
        "outputId": "83f16c48-9a38-423b-ad7a-d22ea74104d2"
      },
      "outputs": [
        {
          "output_type": "stream",
          "name": "stdout",
          "text": [
            "Drive already mounted at /content/drive; to attempt to forcibly remount, call drive.mount(\"/content/drive\", force_remount=True).\n"
          ]
        }
      ],
      "source": [
        "from google.colab import drive\n",
        "drive.mount('/content/drive')\n"
      ]
    },
    {
      "cell_type": "code",
      "source": [
        "import tensorflow as ts\n",
        "from tensorflow import keras\n",
        "import os\n",
        "import numpy as np\n",
        "from os import listdir\n",
        "from skimage.io import imread\n",
        "from skimage.transform import resize\n",
        "from sklearn.model_selection import train_test_split\n",
        "grayscale_images = True\n",
        "from sklearn.model_selection import KFold\n",
        "from sklearn.model_selection import cross_val_score"
      ],
      "metadata": {
        "id": "PGTSx5oXDp2M"
      },
      "execution_count": 91,
      "outputs": []
    },
    {
      "cell_type": "code",
      "source": [
        "dataset_path = \"/content/drive/MyDrive/Dataset\"\n",
        "def get_img(dataset_path):\n",
        "    img = imread(dataset_path)\n",
        "    img = resize(img, (64, 64, 1 if grayscale_images else 3))\n",
        "    return img\n",
        "  "
      ],
      "metadata": {
        "id": "efOosd11DYYG"
      },
      "execution_count": 92,
      "outputs": []
    },
    {
      "cell_type": "code",
      "source": [
        "from keras import backend as evaluatee\n",
        "\n",
        "def recall_m(y_true, y_pred):\n",
        "    true_positives = evaluatee.sum(evaluatee.round(evaluatee.clip(y_true * y_pred, 0, 1)))\n",
        "    possible_positives = evaluatee.sum(evaluatee.round(evaluatee.clip(y_true, 0, 1)))\n",
        "    recall = true_positives / (possible_positives + evaluatee.epsilon())\n",
        "    return recall\n",
        "def precision_m(y_true, y_pred):\n",
        "    true_positives = evaluatee.sum(evaluatee.round(evaluatee.clip(y_true * y_pred, 0, 1)))\n",
        "    predicted_positives = evaluatee.sum(evaluatee.round(evaluatee.clip(y_pred, 0, 1)))\n",
        "    precision = true_positives / (predicted_positives + evaluatee.epsilon())\n",
        "    return precision\n",
        "\n",
        "def f_score(y_true, y_pred):\n",
        "    precision = precision_m(y_true, y_pred)\n",
        "    recall = recall_m(y_true, y_pred)\n",
        "    return 2*((precision*recall)/(precision+recall+evaluatee.epsilon()))"
      ],
      "metadata": {
        "id": "44E6woVbcyiU"
      },
      "execution_count": 93,
      "outputs": []
    },
    {
      "cell_type": "code",
      "source": [
        "labels = listdir(dataset_path) # Geting labels\n",
        "X = []\n",
        "Y = []\n",
        "for i, label in enumerate(labels):\n",
        "    datas_path = dataset_path+'/'+label\n",
        "    for data in listdir(datas_path):\n",
        "        img = get_img(datas_path + '/' + data)\n",
        "        X.append(img)\n",
        "        Y.append(i)\n",
        "X = np.array(X).astype('float32')/255.0\n",
        "Y = np.array(Y).astype('float32')\n",
        "x_train, x_test, y_train, y_test = train_test_split(X, Y, test_size=0.2, random_state=42)\n",
        "print(x_train.shape)"
      ],
      "metadata": {
        "colab": {
          "base_uri": "https://localhost:8080/"
        },
        "id": "f6Q3OoUCEC6d",
        "outputId": "792c7a21-231f-46d6-ed29-af774c313208"
      },
      "execution_count": 94,
      "outputs": [
        {
          "output_type": "stream",
          "name": "stdout",
          "text": [
            "(1649, 64, 64, 1)\n"
          ]
        }
      ]
    },
    {
      "cell_type": "code",
      "source": [
        "x_train = x_train.reshape(len(x_train),64*64)\n",
        "x_test = x_test.reshape(len(x_test),64*64)"
      ],
      "metadata": {
        "id": "vb7WxOUetPBk"
      },
      "execution_count": 95,
      "outputs": []
    },
    {
      "cell_type": "code",
      "source": [
        "def NN1():\n",
        "    model = keras.Sequential([\n",
        "    keras.layers.Dense(512, input_shape=(64*64,), activation='relu'),\n",
        "    keras.layers.Dense(160, activation='relu'),\n",
        "    keras.layers.Dense(10, activation='sigmoid')\n",
        "])\n",
        "\n",
        "    model.compile(optimizer='adam',\n",
        "              loss='sparse_categorical_crossentropy',\n",
        "              metrics=['accuracy',f_score,precision_m, recall_m])\n",
        "\n",
        "    return model"
      ],
      "metadata": {
        "id": "dQ9PgpmAsqe1"
      },
      "execution_count": 109,
      "outputs": []
    },
    {
      "cell_type": "code",
      "source": [
        "model1 = NN1()\n",
        "model1.fit(x_train, y_train, epochs=50)\n",
        "model1.evaluate(x_test,y_test)"
      ],
      "metadata": {
        "colab": {
          "base_uri": "https://localhost:8080/"
        },
        "id": "heKPkPT5z79Z",
        "outputId": "279ec60f-7548-48bc-ae96-e1606b66c48c"
      },
      "execution_count": 110,
      "outputs": [
        {
          "output_type": "stream",
          "name": "stdout",
          "text": [
            "Epoch 1/50\n",
            "52/52 [==============================] - 1s 17ms/step - loss: 2.3056 - accuracy: 0.0928 - f_score: 2.9695 - precision_m: 1.7710 - recall_m: 9.4638\n",
            "Epoch 2/50\n",
            "52/52 [==============================] - 1s 18ms/step - loss: 2.3017 - accuracy: 0.1146 - f_score: 2.6971 - precision_m: 1.5740 - recall_m: 9.5248\n",
            "Epoch 3/50\n",
            "52/52 [==============================] - 1s 17ms/step - loss: 2.2996 - accuracy: 0.1043 - f_score: 3.1240 - precision_m: 1.8761 - recall_m: 9.4184\n",
            "Epoch 4/50\n",
            "52/52 [==============================] - 1s 17ms/step - loss: 2.2896 - accuracy: 0.1631 - f_score: 2.5069 - precision_m: 1.4449 - recall_m: 9.5892\n",
            "Epoch 5/50\n",
            "52/52 [==============================] - 1s 17ms/step - loss: 2.2578 - accuracy: 0.1771 - f_score: 2.8271 - precision_m: 1.6634 - recall_m: 9.4853\n",
            "Epoch 6/50\n",
            "52/52 [==============================] - 1s 17ms/step - loss: 2.1843 - accuracy: 0.1953 - f_score: 3.2098 - precision_m: 1.9387 - recall_m: 9.4145\n",
            "Epoch 7/50\n",
            "52/52 [==============================] - 1s 17ms/step - loss: 2.0739 - accuracy: 0.2735 - f_score: 3.2304 - precision_m: 1.9546 - recall_m: 9.3904\n",
            "Epoch 8/50\n",
            "52/52 [==============================] - 1s 17ms/step - loss: 1.9834 - accuracy: 0.3087 - f_score: 3.1412 - precision_m: 1.8965 - recall_m: 9.2400\n",
            "Epoch 9/50\n",
            "52/52 [==============================] - 1s 17ms/step - loss: 1.8879 - accuracy: 0.3481 - f_score: 3.1226 - precision_m: 1.8855 - recall_m: 9.1424\n",
            "Epoch 10/50\n",
            "52/52 [==============================] - 1s 17ms/step - loss: 1.7738 - accuracy: 0.4087 - f_score: 3.1308 - precision_m: 1.8988 - recall_m: 8.9890\n",
            "Epoch 11/50\n",
            "52/52 [==============================] - 1s 17ms/step - loss: 1.6815 - accuracy: 0.4184 - f_score: 3.0998 - precision_m: 1.8847 - recall_m: 8.8099\n",
            "Epoch 12/50\n",
            "52/52 [==============================] - 1s 17ms/step - loss: 1.6019 - accuracy: 0.4548 - f_score: 3.0065 - precision_m: 1.8266 - recall_m: 8.5203\n",
            "Epoch 13/50\n",
            "52/52 [==============================] - 1s 17ms/step - loss: 1.5453 - accuracy: 0.4742 - f_score: 2.9690 - precision_m: 1.8124 - recall_m: 8.2626\n",
            "Epoch 14/50\n",
            "52/52 [==============================] - 1s 17ms/step - loss: 1.4874 - accuracy: 0.4948 - f_score: 2.9482 - precision_m: 1.8032 - recall_m: 8.1129\n",
            "Epoch 15/50\n",
            "52/52 [==============================] - 1s 17ms/step - loss: 1.4349 - accuracy: 0.4918 - f_score: 2.9253 - precision_m: 1.7959 - recall_m: 7.9312\n",
            "Epoch 16/50\n",
            "52/52 [==============================] - 1s 17ms/step - loss: 1.3832 - accuracy: 0.5221 - f_score: 2.8886 - precision_m: 1.7772 - recall_m: 7.7627\n",
            "Epoch 17/50\n",
            "52/52 [==============================] - 1s 16ms/step - loss: 1.3405 - accuracy: 0.5385 - f_score: 2.8325 - precision_m: 1.7422 - recall_m: 7.6052\n",
            "Epoch 18/50\n",
            "52/52 [==============================] - 1s 17ms/step - loss: 1.3179 - accuracy: 0.5306 - f_score: 2.8153 - precision_m: 1.7362 - recall_m: 7.4717\n",
            "Epoch 19/50\n",
            "52/52 [==============================] - 1s 17ms/step - loss: 1.3036 - accuracy: 0.5197 - f_score: 2.7608 - precision_m: 1.7042 - recall_m: 7.3169\n",
            "Epoch 20/50\n",
            "52/52 [==============================] - 1s 17ms/step - loss: 1.2695 - accuracy: 0.5579 - f_score: 2.7622 - precision_m: 1.7092 - recall_m: 7.2386\n",
            "Epoch 21/50\n",
            "52/52 [==============================] - 1s 17ms/step - loss: 1.2322 - accuracy: 0.5725 - f_score: 2.7326 - precision_m: 1.6923 - recall_m: 7.1289\n",
            "Epoch 22/50\n",
            "52/52 [==============================] - 1s 17ms/step - loss: 1.2024 - accuracy: 0.5767 - f_score: 2.6883 - precision_m: 1.6649 - recall_m: 7.0160\n",
            "Epoch 23/50\n",
            "52/52 [==============================] - 1s 17ms/step - loss: 1.2065 - accuracy: 0.5688 - f_score: 2.6715 - precision_m: 1.6581 - recall_m: 6.9148\n",
            "Epoch 24/50\n",
            "52/52 [==============================] - 1s 17ms/step - loss: 1.1888 - accuracy: 0.5804 - f_score: 2.6228 - precision_m: 1.6260 - recall_m: 6.8245\n",
            "Epoch 25/50\n",
            "52/52 [==============================] - 1s 16ms/step - loss: 1.1542 - accuracy: 0.5937 - f_score: 2.6138 - precision_m: 1.6220 - recall_m: 6.7572\n",
            "Epoch 26/50\n",
            "52/52 [==============================] - 1s 17ms/step - loss: 1.1280 - accuracy: 0.6113 - f_score: 2.6162 - precision_m: 1.6265 - recall_m: 6.7116\n",
            "Epoch 27/50\n",
            "52/52 [==============================] - 1s 17ms/step - loss: 1.1191 - accuracy: 0.6143 - f_score: 2.5760 - precision_m: 1.6026 - recall_m: 6.5977\n",
            "Epoch 28/50\n",
            "52/52 [==============================] - 1s 18ms/step - loss: 1.1233 - accuracy: 0.6082 - f_score: 2.5500 - precision_m: 1.5870 - recall_m: 6.5223\n",
            "Epoch 29/50\n",
            "52/52 [==============================] - 1s 26ms/step - loss: 1.0826 - accuracy: 0.6252 - f_score: 2.5507 - precision_m: 1.5897 - recall_m: 6.4922\n",
            "Epoch 30/50\n",
            "52/52 [==============================] - 1s 26ms/step - loss: 1.0652 - accuracy: 0.6392 - f_score: 2.5293 - precision_m: 1.5801 - recall_m: 6.3676\n",
            "Epoch 31/50\n",
            "52/52 [==============================] - 1s 26ms/step - loss: 1.0564 - accuracy: 0.6380 - f_score: 2.4988 - precision_m: 1.5590 - recall_m: 6.3229\n",
            "Epoch 32/50\n",
            "52/52 [==============================] - 1s 21ms/step - loss: 1.0432 - accuracy: 0.6574 - f_score: 2.5146 - precision_m: 1.5743 - recall_m: 6.2848\n",
            "Epoch 33/50\n",
            "52/52 [==============================] - 1s 17ms/step - loss: 1.0265 - accuracy: 0.6622 - f_score: 2.4688 - precision_m: 1.5440 - recall_m: 6.1946\n",
            "Epoch 34/50\n",
            "52/52 [==============================] - 1s 17ms/step - loss: 1.0093 - accuracy: 0.6737 - f_score: 2.4649 - precision_m: 1.5415 - recall_m: 6.1799\n",
            "Epoch 35/50\n",
            "52/52 [==============================] - 1s 17ms/step - loss: 1.0142 - accuracy: 0.6440 - f_score: 2.4716 - precision_m: 1.5506 - recall_m: 6.1297\n",
            "Epoch 36/50\n",
            "52/52 [==============================] - 1s 17ms/step - loss: 0.9975 - accuracy: 0.6786 - f_score: 2.4363 - precision_m: 1.5256 - recall_m: 6.0727\n",
            "Epoch 37/50\n",
            "52/52 [==============================] - 1s 17ms/step - loss: 0.9903 - accuracy: 0.6737 - f_score: 2.4312 - precision_m: 1.5260 - recall_m: 6.0169\n",
            "Epoch 38/50\n",
            "52/52 [==============================] - 1s 17ms/step - loss: 0.9995 - accuracy: 0.6750 - f_score: 2.4224 - precision_m: 1.5181 - recall_m: 6.0184\n",
            "Epoch 39/50\n",
            "52/52 [==============================] - 1s 17ms/step - loss: 0.9510 - accuracy: 0.6889 - f_score: 2.4047 - precision_m: 1.5112 - recall_m: 5.9230\n",
            "Epoch 40/50\n",
            "52/52 [==============================] - 1s 17ms/step - loss: 0.9368 - accuracy: 0.6998 - f_score: 2.4002 - precision_m: 1.5112 - recall_m: 5.8837\n",
            "Epoch 41/50\n",
            "52/52 [==============================] - 1s 17ms/step - loss: 0.9463 - accuracy: 0.6816 - f_score: 2.3863 - precision_m: 1.5016 - recall_m: 5.8438\n",
            "Epoch 42/50\n",
            "52/52 [==============================] - 1s 17ms/step - loss: 0.9276 - accuracy: 0.6950 - f_score: 2.3868 - precision_m: 1.5030 - recall_m: 5.8245\n",
            "Epoch 43/50\n",
            "52/52 [==============================] - 1s 17ms/step - loss: 0.9341 - accuracy: 0.6998 - f_score: 2.3728 - precision_m: 1.4945 - recall_m: 5.7856\n",
            "Epoch 44/50\n",
            "52/52 [==============================] - 1s 17ms/step - loss: 0.9026 - accuracy: 0.7119 - f_score: 2.3631 - precision_m: 1.4882 - recall_m: 5.7620\n",
            "Epoch 45/50\n",
            "52/52 [==============================] - 1s 17ms/step - loss: 0.9125 - accuracy: 0.6992 - f_score: 2.3292 - precision_m: 1.4659 - recall_m: 5.6936\n",
            "Epoch 46/50\n",
            "52/52 [==============================] - 1s 17ms/step - loss: 0.9088 - accuracy: 0.7089 - f_score: 2.3528 - precision_m: 1.4869 - recall_m: 5.6737\n",
            "Epoch 47/50\n",
            "52/52 [==============================] - 1s 17ms/step - loss: 0.8835 - accuracy: 0.7126 - f_score: 2.3339 - precision_m: 1.4730 - recall_m: 5.6491\n",
            "Epoch 48/50\n",
            "52/52 [==============================] - 1s 18ms/step - loss: 0.8722 - accuracy: 0.7180 - f_score: 2.3343 - precision_m: 1.4741 - recall_m: 5.6387\n",
            "Epoch 49/50\n",
            "52/52 [==============================] - 1s 17ms/step - loss: 0.8744 - accuracy: 0.7180 - f_score: 2.3292 - precision_m: 1.4726 - recall_m: 5.6008\n",
            "Epoch 50/50\n",
            "52/52 [==============================] - 1s 18ms/step - loss: 0.8504 - accuracy: 0.7320 - f_score: 2.3110 - precision_m: 1.4625 - recall_m: 5.5386\n",
            "13/13 [==============================] - 0s 7ms/step - loss: 1.0172 - accuracy: 0.6804 - f_score: 2.3443 - precision_m: 1.4874 - recall_m: 5.5793\n"
          ]
        },
        {
          "output_type": "execute_result",
          "data": {
            "text/plain": [
              "[1.0171550512313843,\n",
              " 0.6803874373435974,\n",
              " 2.3442542552948,\n",
              " 1.487420916557312,\n",
              " 5.579272747039795]"
            ]
          },
          "metadata": {},
          "execution_count": 110
        }
      ]
    },
    {
      "cell_type": "code",
      "source": [
        "from sklearn.metrics import classification_report\n",
        "outx = model1.predict(x_test)\n",
        "loss,acc,score,precision,recall= model1.evaluate(x_test,y_test)"
      ],
      "metadata": {
        "colab": {
          "base_uri": "https://localhost:8080/"
        },
        "id": "Emp47JIf4SiI",
        "outputId": "9dcffe53-25b5-48da-e994-b537370b3938"
      },
      "execution_count": 112,
      "outputs": [
        {
          "output_type": "stream",
          "name": "stdout",
          "text": [
            "13/13 [==============================] - 0s 7ms/step\n",
            "13/13 [==============================] - 0s 8ms/step - loss: 1.0172 - accuracy: 0.6804 - f_score: 2.3443 - precision_m: 1.4874 - recall_m: 5.5793\n"
          ]
        }
      ]
    },
    {
      "cell_type": "code",
      "source": [
        "def NN2():\n",
        "    model = keras.Sequential([\n",
        "    keras.layers.Dense(512, input_shape=(64*64,), activation='relu'),\n",
        "    keras.layers.Dense(256, activation='relu'),\n",
        "    keras.layers.Dense(128, activation='relu'),\n",
        "    keras.layers.Dense(10, activation='sigmoid')\n",
        "    \n",
        "])\n",
        "\n",
        "    model.compile(optimizer='adam',\n",
        "              loss='sparse_categorical_crossentropy',\n",
        "              metrics=['accuracy',f_score,precision_m, recall_m])\n",
        "\n",
        "    return model"
      ],
      "metadata": {
        "id": "H7PqXcDI6Qgl"
      },
      "execution_count": 114,
      "outputs": []
    },
    {
      "cell_type": "code",
      "source": [
        "model2 = NN2()\n",
        "model2.fit(x_train, y_train, epochs=50)\n",
        "model2.evaluate(x_test,y_test)"
      ],
      "metadata": {
        "colab": {
          "base_uri": "https://localhost:8080/"
        },
        "id": "jelzXW1P7zWc",
        "outputId": "7a75d398-4fb8-4ad8-b170-74d8c60fdd4a"
      },
      "execution_count": 115,
      "outputs": [
        {
          "output_type": "stream",
          "name": "stdout",
          "text": [
            "Epoch 1/50\n",
            "52/52 [==============================] - 2s 26ms/step - loss: 2.3062 - accuracy: 0.0988 - f_score: 2.9776 - precision_m: 1.7744 - recall_m: 9.4695\n",
            "Epoch 2/50\n",
            "52/52 [==============================] - 1s 25ms/step - loss: 2.3025 - accuracy: 0.1013 - f_score: 2.8201 - precision_m: 1.6670 - recall_m: 9.5002\n",
            "Epoch 3/50\n",
            "52/52 [==============================] - 1s 19ms/step - loss: 2.3004 - accuracy: 0.1086 - f_score: 3.1344 - precision_m: 1.8958 - recall_m: 9.4549\n",
            "Epoch 4/50\n",
            "52/52 [==============================] - 1s 18ms/step - loss: 2.2892 - accuracy: 0.1201 - f_score: 3.1117 - precision_m: 1.8684 - recall_m: 9.4340\n",
            "Epoch 5/50\n",
            "52/52 [==============================] - 1s 18ms/step - loss: 2.1951 - accuracy: 0.1680 - f_score: 3.7224 - precision_m: 2.3396 - recall_m: 9.3645\n",
            "Epoch 6/50\n",
            "52/52 [==============================] - 1s 18ms/step - loss: 2.0902 - accuracy: 0.1868 - f_score: 3.1349 - precision_m: 1.8970 - recall_m: 9.2043\n",
            "Epoch 7/50\n",
            "52/52 [==============================] - 1s 19ms/step - loss: 2.0031 - accuracy: 0.2274 - f_score: 2.8499 - precision_m: 1.6990 - recall_m: 8.9220\n",
            "Epoch 8/50\n",
            "52/52 [==============================] - 1s 18ms/step - loss: 1.9832 - accuracy: 0.2329 - f_score: 2.8150 - precision_m: 1.6859 - recall_m: 8.5824\n",
            "Epoch 9/50\n",
            "52/52 [==============================] - 1s 18ms/step - loss: 1.9465 - accuracy: 0.2408 - f_score: 2.7553 - precision_m: 1.6447 - recall_m: 8.5491\n",
            "Epoch 10/50\n",
            "52/52 [==============================] - 1s 19ms/step - loss: 1.9203 - accuracy: 0.2650 - f_score: 2.7781 - precision_m: 1.6673 - recall_m: 8.4026\n",
            "Epoch 11/50\n",
            "52/52 [==============================] - 1s 19ms/step - loss: 1.8711 - accuracy: 0.2838 - f_score: 2.7359 - precision_m: 1.6405 - recall_m: 8.2869\n",
            "Epoch 12/50\n",
            "52/52 [==============================] - 1s 18ms/step - loss: 1.8134 - accuracy: 0.3050 - f_score: 2.7725 - precision_m: 1.6734 - recall_m: 8.1609\n",
            "Epoch 13/50\n",
            "52/52 [==============================] - 1s 19ms/step - loss: 1.7600 - accuracy: 0.3372 - f_score: 2.7685 - precision_m: 1.6796 - recall_m: 7.9730\n",
            "Epoch 14/50\n",
            "52/52 [==============================] - 1s 19ms/step - loss: 1.6785 - accuracy: 0.3687 - f_score: 2.8047 - precision_m: 1.7098 - recall_m: 7.8671\n",
            "Epoch 15/50\n",
            "52/52 [==============================] - 1s 18ms/step - loss: 1.6384 - accuracy: 0.3875 - f_score: 2.7658 - precision_m: 1.6916 - recall_m: 7.6453\n",
            "Epoch 16/50\n",
            "52/52 [==============================] - 1s 19ms/step - loss: 1.6174 - accuracy: 0.3948 - f_score: 2.7272 - precision_m: 1.6698 - recall_m: 7.5106\n",
            "Epoch 17/50\n",
            "52/52 [==============================] - 1s 18ms/step - loss: 1.5594 - accuracy: 0.4209 - f_score: 2.6803 - precision_m: 1.6447 - recall_m: 7.3199\n",
            "Epoch 18/50\n",
            "52/52 [==============================] - 1s 19ms/step - loss: 1.5429 - accuracy: 0.4409 - f_score: 2.7045 - precision_m: 1.6731 - recall_m: 7.1692\n",
            "Epoch 19/50\n",
            "52/52 [==============================] - 1s 18ms/step - loss: 1.4829 - accuracy: 0.4633 - f_score: 2.6535 - precision_m: 1.6392 - recall_m: 7.0459\n",
            "Epoch 20/50\n",
            "52/52 [==============================] - 1s 18ms/step - loss: 1.4342 - accuracy: 0.4833 - f_score: 2.6159 - precision_m: 1.6143 - recall_m: 6.9409\n",
            "Epoch 21/50\n",
            "52/52 [==============================] - 1s 19ms/step - loss: 1.3812 - accuracy: 0.5070 - f_score: 2.6346 - precision_m: 1.6361 - recall_m: 6.8278\n",
            "Epoch 22/50\n",
            "52/52 [==============================] - 1s 18ms/step - loss: 1.3304 - accuracy: 0.5155 - f_score: 2.6013 - precision_m: 1.6213 - recall_m: 6.6392\n",
            "Epoch 23/50\n",
            "52/52 [==============================] - 1s 19ms/step - loss: 1.2805 - accuracy: 0.5373 - f_score: 2.5871 - precision_m: 1.6192 - recall_m: 6.4980\n",
            "Epoch 24/50\n",
            "52/52 [==============================] - 1s 20ms/step - loss: 1.2703 - accuracy: 0.5361 - f_score: 2.5353 - precision_m: 1.5863 - recall_m: 6.3561\n",
            "Epoch 25/50\n",
            "52/52 [==============================] - 1s 19ms/step - loss: 1.2237 - accuracy: 0.5488 - f_score: 2.5201 - precision_m: 1.5820 - recall_m: 6.2585\n",
            "Epoch 26/50\n",
            "52/52 [==============================] - 1s 19ms/step - loss: 1.2123 - accuracy: 0.5525 - f_score: 2.4815 - precision_m: 1.5566 - recall_m: 6.1787\n",
            "Epoch 27/50\n",
            "52/52 [==============================] - 1s 19ms/step - loss: 1.1764 - accuracy: 0.5597 - f_score: 2.4720 - precision_m: 1.5484 - recall_m: 6.1884\n",
            "Epoch 28/50\n",
            "52/52 [==============================] - 1s 18ms/step - loss: 1.1109 - accuracy: 0.5979 - f_score: 2.4363 - precision_m: 1.5280 - recall_m: 6.0493\n",
            "Epoch 29/50\n",
            "52/52 [==============================] - 1s 18ms/step - loss: 1.1248 - accuracy: 0.5840 - f_score: 2.4070 - precision_m: 1.5134 - recall_m: 5.9303\n",
            "Epoch 30/50\n",
            "52/52 [==============================] - 1s 18ms/step - loss: 1.0857 - accuracy: 0.6082 - f_score: 2.4171 - precision_m: 1.5263 - recall_m: 5.8662\n",
            "Epoch 31/50\n",
            "52/52 [==============================] - 1s 18ms/step - loss: 1.0427 - accuracy: 0.6392 - f_score: 2.3902 - precision_m: 1.5045 - recall_m: 5.8679\n",
            "Epoch 32/50\n",
            "52/52 [==============================] - 1s 20ms/step - loss: 1.0472 - accuracy: 0.6222 - f_score: 2.3696 - precision_m: 1.4961 - recall_m: 5.7513\n",
            "Epoch 33/50\n",
            "52/52 [==============================] - 1s 19ms/step - loss: 1.0143 - accuracy: 0.6367 - f_score: 2.3492 - precision_m: 1.4822 - recall_m: 5.7044\n",
            "Epoch 34/50\n",
            "52/52 [==============================] - 1s 19ms/step - loss: 1.0181 - accuracy: 0.6386 - f_score: 2.3405 - precision_m: 1.4784 - recall_m: 5.6552\n",
            "Epoch 35/50\n",
            "52/52 [==============================] - 1s 19ms/step - loss: 0.9890 - accuracy: 0.6549 - f_score: 2.3195 - precision_m: 1.4677 - recall_m: 5.5715\n",
            "Epoch 36/50\n",
            "52/52 [==============================] - 1s 19ms/step - loss: 0.9645 - accuracy: 0.6555 - f_score: 2.3247 - precision_m: 1.4719 - recall_m: 5.5659\n",
            "Epoch 37/50\n",
            "52/52 [==============================] - 1s 18ms/step - loss: 0.9805 - accuracy: 0.6507 - f_score: 2.3035 - precision_m: 1.4597 - recall_m: 5.5189\n",
            "Epoch 38/50\n",
            "52/52 [==============================] - 1s 19ms/step - loss: 0.9674 - accuracy: 0.6513 - f_score: 2.2945 - precision_m: 1.4579 - recall_m: 5.4264\n",
            "Epoch 39/50\n",
            "52/52 [==============================] - 1s 19ms/step - loss: 0.9650 - accuracy: 0.6598 - f_score: 2.2886 - precision_m: 1.4500 - recall_m: 5.4869\n",
            "Epoch 40/50\n",
            "52/52 [==============================] - 1s 19ms/step - loss: 0.9440 - accuracy: 0.6737 - f_score: 2.2771 - precision_m: 1.4432 - recall_m: 5.4497\n",
            "Epoch 41/50\n",
            "52/52 [==============================] - 1s 19ms/step - loss: 0.9056 - accuracy: 0.6834 - f_score: 2.2658 - precision_m: 1.4388 - recall_m: 5.3682\n",
            "Epoch 42/50\n",
            "52/52 [==============================] - 1s 19ms/step - loss: 0.9164 - accuracy: 0.6828 - f_score: 2.2713 - precision_m: 1.4441 - recall_m: 5.3553\n",
            "Epoch 43/50\n",
            "52/52 [==============================] - 1s 19ms/step - loss: 0.8773 - accuracy: 0.6950 - f_score: 2.2647 - precision_m: 1.4420 - recall_m: 5.3255\n",
            "Epoch 44/50\n",
            "52/52 [==============================] - 1s 18ms/step - loss: 0.8792 - accuracy: 0.6944 - f_score: 2.2603 - precision_m: 1.4416 - recall_m: 5.2705\n",
            "Epoch 45/50\n",
            "52/52 [==============================] - 1s 19ms/step - loss: 0.8744 - accuracy: 0.6919 - f_score: 2.2464 - precision_m: 1.4303 - recall_m: 5.2649\n",
            "Epoch 46/50\n",
            "52/52 [==============================] - 1s 24ms/step - loss: 0.8974 - accuracy: 0.6883 - f_score: 2.1964 - precision_m: 1.3950 - recall_m: 5.1928\n",
            "Epoch 47/50\n",
            "52/52 [==============================] - 2s 29ms/step - loss: 0.8288 - accuracy: 0.7150 - f_score: 2.2080 - precision_m: 1.4028 - recall_m: 5.2145\n",
            "Epoch 48/50\n",
            "52/52 [==============================] - 2s 29ms/step - loss: 0.8274 - accuracy: 0.7186 - f_score: 2.2037 - precision_m: 1.4004 - recall_m: 5.1987\n",
            "Epoch 49/50\n",
            "52/52 [==============================] - 1s 25ms/step - loss: 0.8538 - accuracy: 0.7077 - f_score: 2.1821 - precision_m: 1.3891 - recall_m: 5.1163\n",
            "Epoch 50/50\n",
            "52/52 [==============================] - 1s 18ms/step - loss: 0.8199 - accuracy: 0.7277 - f_score: 2.1833 - precision_m: 1.3888 - recall_m: 5.1259\n",
            "13/13 [==============================] - 0s 7ms/step - loss: 1.0016 - accuracy: 0.6998 - f_score: 2.1752 - precision_m: 1.3967 - recall_m: 4.9733\n"
          ]
        },
        {
          "output_type": "execute_result",
          "data": {
            "text/plain": [
              "[1.001624584197998,\n",
              " 0.6997578740119934,\n",
              " 2.1752123832702637,\n",
              " 1.3967028856277466,\n",
              " 4.973269939422607]"
            ]
          },
          "metadata": {},
          "execution_count": 115
        }
      ]
    },
    {
      "cell_type": "code",
      "source": [
        "outx2 = model2.predict(x_test)\n",
        "loss,acc,score,precision,recall= model2.evaluate(x_test,y_test)"
      ],
      "metadata": {
        "colab": {
          "base_uri": "https://localhost:8080/"
        },
        "id": "veQpMG4M8uFa",
        "outputId": "1f6bf95e-cd61-4eea-8c6d-8909231729ba"
      },
      "execution_count": 116,
      "outputs": [
        {
          "output_type": "stream",
          "name": "stdout",
          "text": [
            "13/13 [==============================] - 0s 6ms/step\n",
            "13/13 [==============================] - 0s 7ms/step - loss: 1.0016 - accuracy: 0.6998 - f_score: 2.1752 - precision_m: 1.3967 - recall_m: 4.9733\n"
          ]
        }
      ]
    },
    {
      "cell_type": "code",
      "source": [
        "def cross_valid1(x_values, y_values, k=5 ,Model = NN1()):\n",
        "      scores = list()\n",
        "      kfold = KFold(k, shuffle=True, random_state=1)\n",
        "      for train_ix, test_ix in kfold.split(x_values):\n",
        "        trainX, trainY, testX, testY = x_values[train_ix], y_values[train_ix], x_values[test_ix], y_values[test_ix]\n",
        "        trainX = trainX.reshape(len(trainX),64*64)\n",
        "        testX = testX.reshape(len(testX),64*64)\n",
        "        crossValidation = Model\n",
        "        crossValidation.fit(trainX, trainY, epochs=50)\n",
        "        acc = crossValidation.evaluate(testX,testY)\n",
        "        scores.append(acc)\n",
        "      return scores"
      ],
      "metadata": {
        "id": "L1ZvsTWsZS9F"
      },
      "execution_count": 106,
      "outputs": []
    },
    {
      "cell_type": "code",
      "source": [
        "scoresNN1 , valueNN1 = cross_valid1(x_train,y_train,3,model1)\n"
      ],
      "metadata": {
        "colab": {
          "base_uri": "https://localhost:8080/"
        },
        "id": "G6Lh-SdacP6i",
        "outputId": "1aa631cf-eece-4654-9e00-6ff1354419d1"
      },
      "execution_count": 17,
      "outputs": [
        {
          "output_type": "stream",
          "name": "stdout",
          "text": [
            "Epoch 1/50\n",
            "35/35 [==============================] - 1s 16ms/step - loss: 0.9451 - accuracy: 0.6752 - f_score: 2.3726\n",
            "Epoch 2/50\n",
            "35/35 [==============================] - 1s 17ms/step - loss: 0.9266 - accuracy: 0.6879 - f_score: 2.3897\n",
            "Epoch 3/50\n",
            "35/35 [==============================] - 1s 17ms/step - loss: 0.9349 - accuracy: 0.6779 - f_score: 2.3780\n",
            "Epoch 4/50\n",
            "35/35 [==============================] - 1s 17ms/step - loss: 0.9233 - accuracy: 0.6888 - f_score: 2.3877\n",
            "Epoch 5/50\n",
            "35/35 [==============================] - 1s 16ms/step - loss: 0.9315 - accuracy: 0.6706 - f_score: 2.3500\n",
            "Epoch 6/50\n",
            "35/35 [==============================] - 1s 16ms/step - loss: 0.9187 - accuracy: 0.6970 - f_score: 2.3530\n",
            "Epoch 7/50\n",
            "35/35 [==============================] - 1s 16ms/step - loss: 0.9116 - accuracy: 0.7061 - f_score: 2.3346\n",
            "Epoch 8/50\n",
            "35/35 [==============================] - 1s 16ms/step - loss: 0.9003 - accuracy: 0.7106 - f_score: 2.3630\n",
            "Epoch 9/50\n",
            "35/35 [==============================] - 1s 16ms/step - loss: 0.9000 - accuracy: 0.7116 - f_score: 2.3537\n",
            "Epoch 10/50\n",
            "35/35 [==============================] - 1s 16ms/step - loss: 0.8860 - accuracy: 0.7079 - f_score: 2.3433\n",
            "Epoch 11/50\n",
            "35/35 [==============================] - 1s 17ms/step - loss: 0.8781 - accuracy: 0.7197 - f_score: 2.3284\n",
            "Epoch 12/50\n",
            "35/35 [==============================] - 1s 17ms/step - loss: 0.9128 - accuracy: 0.6797 - f_score: 2.3264\n",
            "Epoch 13/50\n",
            "35/35 [==============================] - 1s 17ms/step - loss: 0.8618 - accuracy: 0.7325 - f_score: 2.3371\n",
            "Epoch 14/50\n",
            "35/35 [==============================] - 1s 17ms/step - loss: 0.8656 - accuracy: 0.7325 - f_score: 2.3194\n",
            "Epoch 15/50\n",
            "35/35 [==============================] - 1s 17ms/step - loss: 0.8596 - accuracy: 0.7179 - f_score: 2.3354\n",
            "Epoch 16/50\n",
            "35/35 [==============================] - 1s 17ms/step - loss: 0.8588 - accuracy: 0.7207 - f_score: 2.3127\n",
            "Epoch 17/50\n",
            "35/35 [==============================] - 1s 17ms/step - loss: 0.8638 - accuracy: 0.7134 - f_score: 2.3054\n",
            "Epoch 18/50\n",
            "35/35 [==============================] - 1s 17ms/step - loss: 0.8439 - accuracy: 0.7197 - f_score: 2.2947\n",
            "Epoch 19/50\n",
            "35/35 [==============================] - 1s 17ms/step - loss: 0.8366 - accuracy: 0.7307 - f_score: 2.2926\n",
            "Epoch 20/50\n",
            "35/35 [==============================] - 1s 17ms/step - loss: 0.8328 - accuracy: 0.7106 - f_score: 2.3037\n",
            "Epoch 21/50\n",
            "35/35 [==============================] - 1s 18ms/step - loss: 0.8334 - accuracy: 0.7370 - f_score: 2.2874\n",
            "Epoch 22/50\n",
            "35/35 [==============================] - 1s 17ms/step - loss: 0.8246 - accuracy: 0.7325 - f_score: 2.2796\n",
            "Epoch 23/50\n",
            "35/35 [==============================] - 1s 17ms/step - loss: 0.8268 - accuracy: 0.7270 - f_score: 2.2578\n",
            "Epoch 24/50\n",
            "35/35 [==============================] - 1s 17ms/step - loss: 0.8245 - accuracy: 0.7261 - f_score: 2.2582\n",
            "Epoch 25/50\n",
            "35/35 [==============================] - 1s 18ms/step - loss: 0.7994 - accuracy: 0.7543 - f_score: 2.2805\n",
            "Epoch 26/50\n",
            "35/35 [==============================] - 1s 17ms/step - loss: 0.7882 - accuracy: 0.7589 - f_score: 2.2688\n",
            "Epoch 27/50\n",
            "35/35 [==============================] - 1s 16ms/step - loss: 0.7882 - accuracy: 0.7552 - f_score: 2.2752\n",
            "Epoch 28/50\n",
            "35/35 [==============================] - 1s 17ms/step - loss: 0.7847 - accuracy: 0.7580 - f_score: 2.2573\n",
            "Epoch 29/50\n",
            "35/35 [==============================] - 1s 17ms/step - loss: 0.7787 - accuracy: 0.7616 - f_score: 2.2682\n",
            "Epoch 30/50\n",
            "35/35 [==============================] - 1s 17ms/step - loss: 0.7956 - accuracy: 0.7334 - f_score: 2.2341\n",
            "Epoch 31/50\n",
            "35/35 [==============================] - 1s 18ms/step - loss: 0.7744 - accuracy: 0.7634 - f_score: 2.2629\n",
            "Epoch 32/50\n",
            "35/35 [==============================] - 1s 17ms/step - loss: 0.7674 - accuracy: 0.7552 - f_score: 2.2326\n",
            "Epoch 33/50\n",
            "35/35 [==============================] - 1s 17ms/step - loss: 0.7596 - accuracy: 0.7634 - f_score: 2.2482\n",
            "Epoch 34/50\n",
            "35/35 [==============================] - 1s 17ms/step - loss: 0.7460 - accuracy: 0.7707 - f_score: 2.2507\n",
            "Epoch 35/50\n",
            "35/35 [==============================] - 1s 16ms/step - loss: 0.7436 - accuracy: 0.7698 - f_score: 2.2403\n",
            "Epoch 36/50\n",
            "35/35 [==============================] - 1s 16ms/step - loss: 0.7336 - accuracy: 0.7825 - f_score: 2.2322\n",
            "Epoch 37/50\n",
            "35/35 [==============================] - 1s 17ms/step - loss: 0.7372 - accuracy: 0.7798 - f_score: 2.2335\n",
            "Epoch 38/50\n",
            "35/35 [==============================] - 1s 17ms/step - loss: 0.7611 - accuracy: 0.7498 - f_score: 2.2250\n",
            "Epoch 39/50\n",
            "35/35 [==============================] - 1s 17ms/step - loss: 0.7479 - accuracy: 0.7662 - f_score: 2.2152\n",
            "Epoch 40/50\n",
            "35/35 [==============================] - 1s 17ms/step - loss: 0.7321 - accuracy: 0.7616 - f_score: 2.2262\n",
            "Epoch 41/50\n",
            "35/35 [==============================] - 1s 17ms/step - loss: 0.7075 - accuracy: 0.7971 - f_score: 2.2324\n",
            "Epoch 42/50\n",
            "35/35 [==============================] - 1s 17ms/step - loss: 0.7138 - accuracy: 0.7862 - f_score: 2.2205\n",
            "Epoch 43/50\n",
            "35/35 [==============================] - 1s 17ms/step - loss: 0.7143 - accuracy: 0.7698 - f_score: 2.2161\n",
            "Epoch 44/50\n",
            "35/35 [==============================] - 1s 16ms/step - loss: 0.6971 - accuracy: 0.7798 - f_score: 2.2094\n",
            "Epoch 45/50\n",
            "35/35 [==============================] - 1s 17ms/step - loss: 0.6804 - accuracy: 0.8089 - f_score: 2.2097\n",
            "Epoch 46/50\n",
            "35/35 [==============================] - 1s 16ms/step - loss: 0.6836 - accuracy: 0.7971 - f_score: 2.2050\n",
            "Epoch 47/50\n",
            "35/35 [==============================] - 1s 17ms/step - loss: 0.6783 - accuracy: 0.7980 - f_score: 2.2174\n",
            "Epoch 48/50\n",
            "35/35 [==============================] - 1s 17ms/step - loss: 0.6646 - accuracy: 0.8062 - f_score: 2.2086\n",
            "Epoch 49/50\n",
            "35/35 [==============================] - 1s 17ms/step - loss: 0.6620 - accuracy: 0.8053 - f_score: 2.2184\n",
            "Epoch 50/50\n",
            "35/35 [==============================] - 1s 17ms/step - loss: 0.6635 - accuracy: 0.7953 - f_score: 2.1982\n",
            "18/18 [==============================] - 0s 6ms/step - loss: 0.8442 - accuracy: 0.7582 - f_score: 2.1350\n",
            "Epoch 1/50\n",
            "35/35 [==============================] - 1s 17ms/step - loss: 0.7615 - accuracy: 0.7698 - f_score: 2.1449\n",
            "Epoch 2/50\n",
            "35/35 [==============================] - 1s 17ms/step - loss: 0.7774 - accuracy: 0.7434 - f_score: 2.1097\n",
            "Epoch 3/50\n",
            "35/35 [==============================] - 1s 18ms/step - loss: 0.7784 - accuracy: 0.7552 - f_score: 2.1497\n",
            "Epoch 4/50\n",
            "35/35 [==============================] - 1s 17ms/step - loss: 0.7428 - accuracy: 0.7780 - f_score: 2.1436\n",
            "Epoch 5/50\n",
            "35/35 [==============================] - 1s 17ms/step - loss: 0.7244 - accuracy: 0.7798 - f_score: 2.1372\n",
            "Epoch 6/50\n",
            "35/35 [==============================] - 1s 16ms/step - loss: 0.7177 - accuracy: 0.7725 - f_score: 2.1508\n",
            "Epoch 7/50\n",
            "35/35 [==============================] - 1s 17ms/step - loss: 0.7084 - accuracy: 0.7944 - f_score: 2.1664\n",
            "Epoch 8/50\n",
            "35/35 [==============================] - 1s 17ms/step - loss: 0.7009 - accuracy: 0.7934 - f_score: 2.1359\n",
            "Epoch 9/50\n",
            "35/35 [==============================] - 1s 17ms/step - loss: 0.6982 - accuracy: 0.7998 - f_score: 2.1444\n",
            "Epoch 10/50\n",
            "35/35 [==============================] - 1s 17ms/step - loss: 0.7087 - accuracy: 0.7834 - f_score: 2.1286\n",
            "Epoch 11/50\n",
            "35/35 [==============================] - 1s 17ms/step - loss: 0.6828 - accuracy: 0.7944 - f_score: 2.1333\n",
            "Epoch 12/50\n",
            "35/35 [==============================] - 1s 18ms/step - loss: 0.7023 - accuracy: 0.7998 - f_score: 2.1445\n",
            "Epoch 13/50\n",
            "35/35 [==============================] - 1s 18ms/step - loss: 0.6728 - accuracy: 0.7944 - f_score: 2.1079\n",
            "Epoch 14/50\n",
            "35/35 [==============================] - 1s 17ms/step - loss: 0.6968 - accuracy: 0.7862 - f_score: 2.1296\n",
            "Epoch 15/50\n",
            "35/35 [==============================] - 1s 18ms/step - loss: 0.6799 - accuracy: 0.7925 - f_score: 2.1339\n",
            "Epoch 16/50\n",
            "35/35 [==============================] - 1s 17ms/step - loss: 0.6946 - accuracy: 0.7798 - f_score: 2.1368\n",
            "Epoch 17/50\n",
            "35/35 [==============================] - 1s 17ms/step - loss: 0.6606 - accuracy: 0.8053 - f_score: 2.1138\n",
            "Epoch 18/50\n",
            "35/35 [==============================] - 1s 17ms/step - loss: 0.6772 - accuracy: 0.7934 - f_score: 2.1308\n",
            "Epoch 19/50\n",
            "35/35 [==============================] - 1s 16ms/step - loss: 0.6688 - accuracy: 0.7880 - f_score: 2.1272\n",
            "Epoch 20/50\n",
            "35/35 [==============================] - 1s 17ms/step - loss: 0.6557 - accuracy: 0.8071 - f_score: 2.1194\n",
            "Epoch 21/50\n",
            "35/35 [==============================] - 1s 16ms/step - loss: 0.6313 - accuracy: 0.8171 - f_score: 2.1189\n",
            "Epoch 22/50\n",
            "35/35 [==============================] - 1s 17ms/step - loss: 0.6348 - accuracy: 0.8089 - f_score: 2.1281\n",
            "Epoch 23/50\n",
            "35/35 [==============================] - 1s 17ms/step - loss: 0.6786 - accuracy: 0.7534 - f_score: 2.1044\n",
            "Epoch 24/50\n",
            "35/35 [==============================] - 1s 17ms/step - loss: 0.6364 - accuracy: 0.8116 - f_score: 2.1056\n",
            "Epoch 25/50\n",
            "35/35 [==============================] - 1s 18ms/step - loss: 0.6230 - accuracy: 0.8135 - f_score: 2.1190\n",
            "Epoch 26/50\n",
            "35/35 [==============================] - 1s 17ms/step - loss: 0.6173 - accuracy: 0.8126 - f_score: 2.0938\n",
            "Epoch 27/50\n",
            "35/35 [==============================] - 1s 18ms/step - loss: 0.6180 - accuracy: 0.8189 - f_score: 2.1147\n",
            "Epoch 28/50\n",
            "35/35 [==============================] - 1s 23ms/step - loss: 0.6179 - accuracy: 0.8035 - f_score: 2.0951\n",
            "Epoch 29/50\n",
            "35/35 [==============================] - 1s 26ms/step - loss: 0.6382 - accuracy: 0.8016 - f_score: 2.1092\n",
            "Epoch 30/50\n",
            "35/35 [==============================] - 1s 26ms/step - loss: 0.6071 - accuracy: 0.8126 - f_score: 2.1162\n",
            "Epoch 31/50\n",
            "35/35 [==============================] - 1s 25ms/step - loss: 0.6230 - accuracy: 0.8098 - f_score: 2.1090\n",
            "Epoch 32/50\n",
            "35/35 [==============================] - 1s 26ms/step - loss: 0.6004 - accuracy: 0.8326 - f_score: 2.0800\n",
            "Epoch 33/50\n",
            "35/35 [==============================] - 1s 26ms/step - loss: 0.5824 - accuracy: 0.8289 - f_score: 2.1052\n",
            "Epoch 34/50\n",
            "35/35 [==============================] - 1s 18ms/step - loss: 0.5788 - accuracy: 0.8298 - f_score: 2.0895\n",
            "Epoch 35/50\n",
            "35/35 [==============================] - 1s 17ms/step - loss: 0.6206 - accuracy: 0.7971 - f_score: 2.0714\n",
            "Epoch 36/50\n",
            "35/35 [==============================] - 1s 17ms/step - loss: 0.5769 - accuracy: 0.8380 - f_score: 2.1114\n",
            "Epoch 37/50\n",
            "35/35 [==============================] - 1s 17ms/step - loss: 0.6123 - accuracy: 0.8162 - f_score: 2.0639\n",
            "Epoch 38/50\n",
            "35/35 [==============================] - 1s 18ms/step - loss: 0.5673 - accuracy: 0.8335 - f_score: 2.0822\n",
            "Epoch 39/50\n",
            "35/35 [==============================] - 1s 17ms/step - loss: 0.5729 - accuracy: 0.8253 - f_score: 2.0751\n",
            "Epoch 40/50\n",
            "35/35 [==============================] - 1s 17ms/step - loss: 0.5700 - accuracy: 0.8289 - f_score: 2.0753\n",
            "Epoch 41/50\n",
            "35/35 [==============================] - 1s 16ms/step - loss: 0.5708 - accuracy: 0.8189 - f_score: 2.0461\n",
            "Epoch 42/50\n",
            "35/35 [==============================] - 1s 17ms/step - loss: 0.5802 - accuracy: 0.8107 - f_score: 2.0530\n",
            "Epoch 43/50\n",
            "35/35 [==============================] - 1s 17ms/step - loss: 0.5660 - accuracy: 0.8171 - f_score: 2.0528\n",
            "Epoch 44/50\n",
            "35/35 [==============================] - 1s 17ms/step - loss: 0.5547 - accuracy: 0.8262 - f_score: 2.0655\n",
            "Epoch 45/50\n",
            "35/35 [==============================] - 1s 17ms/step - loss: 0.5806 - accuracy: 0.8262 - f_score: 2.0667\n",
            "Epoch 46/50\n",
            "35/35 [==============================] - 1s 17ms/step - loss: 0.5822 - accuracy: 0.8162 - f_score: 2.0501\n",
            "Epoch 47/50\n",
            "35/35 [==============================] - 1s 18ms/step - loss: 0.5647 - accuracy: 0.8326 - f_score: 2.0420\n",
            "Epoch 48/50\n",
            "35/35 [==============================] - 1s 17ms/step - loss: 0.5400 - accuracy: 0.8353 - f_score: 2.0529\n",
            "Epoch 49/50\n",
            "35/35 [==============================] - 1s 16ms/step - loss: 0.5349 - accuracy: 0.8399 - f_score: 2.0658\n",
            "Epoch 50/50\n",
            "35/35 [==============================] - 1s 18ms/step - loss: 0.5460 - accuracy: 0.8353 - f_score: 2.0572\n",
            "18/18 [==============================] - 0s 7ms/step - loss: 0.6145 - accuracy: 0.8055 - f_score: 2.1239\n",
            "Epoch 1/50\n",
            "35/35 [==============================] - 1s 18ms/step - loss: 0.6217 - accuracy: 0.7973 - f_score: 2.0873\n",
            "Epoch 2/50\n",
            "35/35 [==============================] - 1s 17ms/step - loss: 0.6155 - accuracy: 0.8073 - f_score: 2.0697\n",
            "Epoch 3/50\n",
            "35/35 [==============================] - 1s 17ms/step - loss: 0.6224 - accuracy: 0.8036 - f_score: 2.0687\n",
            "Epoch 4/50\n",
            "35/35 [==============================] - 1s 17ms/step - loss: 0.5906 - accuracy: 0.8182 - f_score: 2.0883\n",
            "Epoch 5/50\n",
            "35/35 [==============================] - 1s 17ms/step - loss: 0.5763 - accuracy: 0.8127 - f_score: 2.0855\n",
            "Epoch 6/50\n",
            "35/35 [==============================] - 1s 17ms/step - loss: 0.6299 - accuracy: 0.7909 - f_score: 2.0573\n",
            "Epoch 7/50\n",
            "35/35 [==============================] - 1s 16ms/step - loss: 0.6117 - accuracy: 0.8100 - f_score: 2.0718\n",
            "Epoch 8/50\n",
            "35/35 [==============================] - 1s 17ms/step - loss: 0.5647 - accuracy: 0.8345 - f_score: 2.0710\n",
            "Epoch 9/50\n",
            "35/35 [==============================] - 1s 17ms/step - loss: 0.5801 - accuracy: 0.8200 - f_score: 2.0551\n",
            "Epoch 10/50\n",
            "35/35 [==============================] - 1s 17ms/step - loss: 0.5723 - accuracy: 0.8200 - f_score: 2.0848\n",
            "Epoch 11/50\n",
            "35/35 [==============================] - 1s 17ms/step - loss: 0.5653 - accuracy: 0.8255 - f_score: 2.0778\n",
            "Epoch 12/50\n",
            "35/35 [==============================] - 1s 17ms/step - loss: 0.5604 - accuracy: 0.8236 - f_score: 2.0515\n",
            "Epoch 13/50\n",
            "35/35 [==============================] - 1s 18ms/step - loss: 0.5706 - accuracy: 0.8273 - f_score: 2.0768\n",
            "Epoch 14/50\n",
            "35/35 [==============================] - 1s 17ms/step - loss: 0.5398 - accuracy: 0.8355 - f_score: 2.0841\n",
            "Epoch 15/50\n",
            "35/35 [==============================] - 1s 18ms/step - loss: 0.5429 - accuracy: 0.8282 - f_score: 2.0784\n",
            "Epoch 16/50\n",
            "35/35 [==============================] - 1s 17ms/step - loss: 0.5639 - accuracy: 0.8200 - f_score: 2.0488\n",
            "Epoch 17/50\n",
            "35/35 [==============================] - 1s 17ms/step - loss: 0.5821 - accuracy: 0.8127 - f_score: 2.0251\n",
            "Epoch 18/50\n",
            "35/35 [==============================] - 1s 17ms/step - loss: 0.5547 - accuracy: 0.8127 - f_score: 2.0707\n",
            "Epoch 19/50\n",
            "35/35 [==============================] - 1s 17ms/step - loss: 0.5328 - accuracy: 0.8427 - f_score: 2.0555\n",
            "Epoch 20/50\n",
            "35/35 [==============================] - 1s 17ms/step - loss: 0.5457 - accuracy: 0.8191 - f_score: 2.0557\n",
            "Epoch 21/50\n",
            "35/35 [==============================] - 1s 17ms/step - loss: 0.5498 - accuracy: 0.8127 - f_score: 2.0764\n",
            "Epoch 22/50\n",
            "35/35 [==============================] - 1s 17ms/step - loss: 0.5160 - accuracy: 0.8318 - f_score: 2.0472\n",
            "Epoch 23/50\n",
            "35/35 [==============================] - 1s 17ms/step - loss: 0.5561 - accuracy: 0.8200 - f_score: 2.0410\n",
            "Epoch 24/50\n",
            "35/35 [==============================] - 1s 16ms/step - loss: 0.5280 - accuracy: 0.8309 - f_score: 2.0615\n",
            "Epoch 25/50\n",
            "35/35 [==============================] - 1s 17ms/step - loss: 0.5189 - accuracy: 0.8345 - f_score: 2.0640\n",
            "Epoch 26/50\n",
            "35/35 [==============================] - 1s 17ms/step - loss: 0.5045 - accuracy: 0.8391 - f_score: 2.0539\n",
            "Epoch 27/50\n",
            "35/35 [==============================] - 1s 17ms/step - loss: 0.5212 - accuracy: 0.8291 - f_score: 2.0727\n",
            "Epoch 28/50\n",
            "35/35 [==============================] - 1s 18ms/step - loss: 0.5133 - accuracy: 0.8527 - f_score: 2.0384\n",
            "Epoch 29/50\n",
            "35/35 [==============================] - 1s 17ms/step - loss: 0.5129 - accuracy: 0.8473 - f_score: 2.0583\n",
            "Epoch 30/50\n",
            "35/35 [==============================] - 1s 18ms/step - loss: 0.5015 - accuracy: 0.8491 - f_score: 2.0457\n",
            "Epoch 31/50\n",
            "35/35 [==============================] - 1s 16ms/step - loss: 0.4931 - accuracy: 0.8445 - f_score: 2.0503\n",
            "Epoch 32/50\n",
            "35/35 [==============================] - 1s 17ms/step - loss: 0.4899 - accuracy: 0.8473 - f_score: 2.0455\n",
            "Epoch 33/50\n",
            "35/35 [==============================] - 1s 17ms/step - loss: 0.4886 - accuracy: 0.8509 - f_score: 2.0384\n",
            "Epoch 34/50\n",
            "35/35 [==============================] - 1s 17ms/step - loss: 0.5299 - accuracy: 0.8300 - f_score: 2.0484\n",
            "Epoch 35/50\n",
            "35/35 [==============================] - 1s 17ms/step - loss: 0.4868 - accuracy: 0.8427 - f_score: 2.0262\n",
            "Epoch 36/50\n",
            "35/35 [==============================] - 1s 17ms/step - loss: 0.4882 - accuracy: 0.8509 - f_score: 2.0315\n",
            "Epoch 37/50\n",
            "35/35 [==============================] - 1s 17ms/step - loss: 0.5023 - accuracy: 0.8336 - f_score: 2.0229\n",
            "Epoch 38/50\n",
            "35/35 [==============================] - 1s 17ms/step - loss: 0.4832 - accuracy: 0.8455 - f_score: 2.0331\n",
            "Epoch 39/50\n",
            "35/35 [==============================] - 1s 17ms/step - loss: 0.4753 - accuracy: 0.8555 - f_score: 2.0226\n",
            "Epoch 40/50\n",
            "35/35 [==============================] - 1s 17ms/step - loss: 0.4777 - accuracy: 0.8500 - f_score: 2.0349\n",
            "Epoch 41/50\n",
            "35/35 [==============================] - 1s 17ms/step - loss: 0.4754 - accuracy: 0.8491 - f_score: 2.0313\n",
            "Epoch 42/50\n",
            "35/35 [==============================] - 1s 17ms/step - loss: 0.5227 - accuracy: 0.8218 - f_score: 2.0184\n",
            "Epoch 43/50\n",
            "35/35 [==============================] - 1s 17ms/step - loss: 0.4907 - accuracy: 0.8427 - f_score: 2.0148\n",
            "Epoch 44/50\n",
            "35/35 [==============================] - 1s 17ms/step - loss: 0.4608 - accuracy: 0.8491 - f_score: 1.9970\n",
            "Epoch 45/50\n",
            "35/35 [==============================] - 1s 17ms/step - loss: 0.4667 - accuracy: 0.8509 - f_score: 2.0013\n",
            "Epoch 46/50\n",
            "35/35 [==============================] - 1s 17ms/step - loss: 0.4894 - accuracy: 0.8427 - f_score: 1.9826\n",
            "Epoch 47/50\n",
            "35/35 [==============================] - 1s 17ms/step - loss: 0.4661 - accuracy: 0.8564 - f_score: 1.9990\n",
            "Epoch 48/50\n",
            "35/35 [==============================] - 1s 17ms/step - loss: 0.4568 - accuracy: 0.8573 - f_score: 2.0111\n",
            "Epoch 49/50\n",
            "35/35 [==============================] - 1s 17ms/step - loss: 0.4728 - accuracy: 0.8482 - f_score: 2.0112\n",
            "Epoch 50/50\n",
            "35/35 [==============================] - 1s 17ms/step - loss: 0.4467 - accuracy: 0.8582 - f_score: 2.0052\n",
            "18/18 [==============================] - 0s 7ms/step - loss: 0.5062 - accuracy: 0.8397 - f_score: 1.9842\n"
          ]
        }
      ]
    },
    {
      "cell_type": "code",
      "source": [
        "print(scoresNN1)\n"
      ],
      "metadata": {
        "colab": {
          "base_uri": "https://localhost:8080/"
        },
        "id": "SBGCW71NfZYr",
        "outputId": "461eaae8-85ef-4d11-9eec-e7c2d7b7fc9c"
      },
      "execution_count": 19,
      "outputs": [
        {
          "output_type": "stream",
          "name": "stdout",
          "text": [
            "[[0.8441534042358398, 0.7581818103790283, 2.134960412979126], [0.6144623756408691, 0.8054545521736145, 2.1238958835601807], [0.506182074546814, 0.8397085666656494, 1.9841796159744263]]\n"
          ]
        }
      ]
    },
    {
      "cell_type": "code",
      "source": [
        "scoresNN2 = cross_valid1(x_train,y_train,3,model2)\n"
      ],
      "metadata": {
        "colab": {
          "base_uri": "https://localhost:8080/"
        },
        "id": "yWv11v-p4RBJ",
        "outputId": "863a0bc8-9836-498c-babb-ff9212b64638"
      },
      "execution_count": 107,
      "outputs": [
        {
          "output_type": "stream",
          "name": "stdout",
          "text": [
            "Epoch 1/50\n",
            "35/35 [==============================] - 1s 18ms/step - loss: 0.9990 - accuracy: 0.6278 - f_score: 2.1193\n",
            "Epoch 2/50\n",
            "35/35 [==============================] - 1s 19ms/step - loss: 0.8956 - accuracy: 0.6688 - f_score: 2.1391\n",
            "Epoch 3/50\n",
            "35/35 [==============================] - 1s 19ms/step - loss: 0.8939 - accuracy: 0.6588 - f_score: 2.1352\n",
            "Epoch 4/50\n",
            "35/35 [==============================] - 1s 19ms/step - loss: 0.9182 - accuracy: 0.6460 - f_score: 2.1085\n",
            "Epoch 5/50\n",
            "35/35 [==============================] - 1s 19ms/step - loss: 0.9119 - accuracy: 0.6515 - f_score: 2.1122\n",
            "Epoch 6/50\n",
            "35/35 [==============================] - 1s 19ms/step - loss: 0.8531 - accuracy: 0.6879 - f_score: 2.1415\n",
            "Epoch 7/50\n",
            "35/35 [==============================] - 1s 19ms/step - loss: 0.8360 - accuracy: 0.6879 - f_score: 2.1044\n",
            "Epoch 8/50\n",
            "35/35 [==============================] - 1s 19ms/step - loss: 0.8401 - accuracy: 0.6870 - f_score: 2.1240\n",
            "Epoch 9/50\n",
            "35/35 [==============================] - 1s 19ms/step - loss: 0.8001 - accuracy: 0.7070 - f_score: 2.1146\n",
            "Epoch 10/50\n",
            "35/35 [==============================] - 1s 18ms/step - loss: 0.7923 - accuracy: 0.7197 - f_score: 2.0964\n",
            "Epoch 11/50\n",
            "35/35 [==============================] - 1s 18ms/step - loss: 0.7825 - accuracy: 0.7325 - f_score: 2.1129\n",
            "Epoch 12/50\n",
            "35/35 [==============================] - 1s 18ms/step - loss: 0.7979 - accuracy: 0.7125 - f_score: 2.0879\n",
            "Epoch 13/50\n",
            "35/35 [==============================] - 1s 18ms/step - loss: 0.7602 - accuracy: 0.7352 - f_score: 2.0877\n",
            "Epoch 14/50\n",
            "35/35 [==============================] - 1s 19ms/step - loss: 0.7889 - accuracy: 0.7170 - f_score: 2.0987\n",
            "Epoch 15/50\n",
            "35/35 [==============================] - 1s 18ms/step - loss: 0.8274 - accuracy: 0.6943 - f_score: 2.0803\n",
            "Epoch 16/50\n",
            "35/35 [==============================] - 1s 19ms/step - loss: 0.7699 - accuracy: 0.7461 - f_score: 2.1012\n",
            "Epoch 17/50\n",
            "35/35 [==============================] - 1s 19ms/step - loss: 0.7921 - accuracy: 0.7079 - f_score: 2.0548\n",
            "Epoch 18/50\n",
            "35/35 [==============================] - 1s 18ms/step - loss: 0.7545 - accuracy: 0.7316 - f_score: 2.0975\n",
            "Epoch 19/50\n",
            "35/35 [==============================] - 1s 18ms/step - loss: 0.7368 - accuracy: 0.7398 - f_score: 2.0779\n",
            "Epoch 20/50\n",
            "35/35 [==============================] - 1s 19ms/step - loss: 0.7304 - accuracy: 0.7416 - f_score: 2.0693\n",
            "Epoch 21/50\n",
            "35/35 [==============================] - 1s 18ms/step - loss: 0.7441 - accuracy: 0.7443 - f_score: 2.1008\n",
            "Epoch 22/50\n",
            "35/35 [==============================] - 1s 19ms/step - loss: 0.7645 - accuracy: 0.7307 - f_score: 2.0638\n",
            "Epoch 23/50\n",
            "35/35 [==============================] - 1s 19ms/step - loss: 0.7694 - accuracy: 0.7061 - f_score: 2.0722\n",
            "Epoch 24/50\n",
            "35/35 [==============================] - 1s 19ms/step - loss: 0.7157 - accuracy: 0.7470 - f_score: 2.0650\n",
            "Epoch 25/50\n",
            "35/35 [==============================] - 1s 18ms/step - loss: 0.7523 - accuracy: 0.7279 - f_score: 2.0672\n",
            "Epoch 26/50\n",
            "35/35 [==============================] - 1s 19ms/step - loss: 0.6917 - accuracy: 0.7516 - f_score: 2.0535\n",
            "Epoch 27/50\n",
            "35/35 [==============================] - 1s 19ms/step - loss: 0.7325 - accuracy: 0.7543 - f_score: 2.0816\n",
            "Epoch 28/50\n",
            "35/35 [==============================] - 1s 18ms/step - loss: 0.6979 - accuracy: 0.7561 - f_score: 2.0622\n",
            "Epoch 29/50\n",
            "35/35 [==============================] - 1s 18ms/step - loss: 0.6641 - accuracy: 0.7798 - f_score: 2.0654\n",
            "Epoch 30/50\n",
            "35/35 [==============================] - 1s 19ms/step - loss: 0.6222 - accuracy: 0.8025 - f_score: 2.0412\n",
            "Epoch 31/50\n",
            "35/35 [==============================] - 1s 19ms/step - loss: 0.6181 - accuracy: 0.7953 - f_score: 2.0490\n",
            "Epoch 32/50\n",
            "35/35 [==============================] - 1s 19ms/step - loss: 0.6430 - accuracy: 0.7898 - f_score: 2.0409\n",
            "Epoch 33/50\n",
            "35/35 [==============================] - 1s 19ms/step - loss: 0.6595 - accuracy: 0.7543 - f_score: 2.0382\n",
            "Epoch 34/50\n",
            "35/35 [==============================] - 1s 19ms/step - loss: 0.6532 - accuracy: 0.7825 - f_score: 2.0421\n",
            "Epoch 35/50\n",
            "35/35 [==============================] - 1s 18ms/step - loss: 0.5929 - accuracy: 0.8062 - f_score: 2.0281\n",
            "Epoch 36/50\n",
            "35/35 [==============================] - 1s 20ms/step - loss: 0.6054 - accuracy: 0.8071 - f_score: 2.0316\n",
            "Epoch 37/50\n",
            "35/35 [==============================] - 1s 19ms/step - loss: 0.5636 - accuracy: 0.8226 - f_score: 2.0244\n",
            "Epoch 38/50\n",
            "35/35 [==============================] - 1s 19ms/step - loss: 0.5820 - accuracy: 0.8107 - f_score: 2.0151\n",
            "Epoch 39/50\n",
            "35/35 [==============================] - 1s 19ms/step - loss: 0.5852 - accuracy: 0.7880 - f_score: 2.0277\n",
            "Epoch 40/50\n",
            "35/35 [==============================] - 1s 19ms/step - loss: 0.5806 - accuracy: 0.7916 - f_score: 2.0090\n",
            "Epoch 41/50\n",
            "35/35 [==============================] - 1s 19ms/step - loss: 0.6182 - accuracy: 0.7944 - f_score: 2.0061\n",
            "Epoch 42/50\n",
            "35/35 [==============================] - 1s 19ms/step - loss: 0.5359 - accuracy: 0.8235 - f_score: 2.0186\n",
            "Epoch 43/50\n",
            "35/35 [==============================] - 1s 18ms/step - loss: 0.5017 - accuracy: 0.8298 - f_score: 1.9839\n",
            "Epoch 44/50\n",
            "35/35 [==============================] - 1s 19ms/step - loss: 0.5366 - accuracy: 0.8217 - f_score: 2.0073\n",
            "Epoch 45/50\n",
            "35/35 [==============================] - 1s 19ms/step - loss: 0.5015 - accuracy: 0.8344 - f_score: 1.9886\n",
            "Epoch 46/50\n",
            "35/35 [==============================] - 1s 18ms/step - loss: 0.5310 - accuracy: 0.8235 - f_score: 2.0000\n",
            "Epoch 47/50\n",
            "35/35 [==============================] - 1s 19ms/step - loss: 0.5276 - accuracy: 0.8353 - f_score: 2.0002\n",
            "Epoch 48/50\n",
            "35/35 [==============================] - 1s 31ms/step - loss: 0.5256 - accuracy: 0.8262 - f_score: 1.9888\n",
            "Epoch 49/50\n",
            "35/35 [==============================] - 1s 19ms/step - loss: 0.5326 - accuracy: 0.8207 - f_score: 1.9966\n",
            "Epoch 50/50\n",
            "35/35 [==============================] - 1s 18ms/step - loss: 0.5578 - accuracy: 0.8080 - f_score: 1.9893\n",
            "18/18 [==============================] - 0s 9ms/step - loss: 0.7767 - accuracy: 0.7691 - f_score: 1.9870\n",
            "Epoch 1/50\n",
            "35/35 [==============================] - 1s 18ms/step - loss: 0.6745 - accuracy: 0.7880 - f_score: 1.9733\n",
            "Epoch 2/50\n",
            "35/35 [==============================] - 1s 18ms/step - loss: 0.7352 - accuracy: 0.7480 - f_score: 1.9565\n",
            "Epoch 3/50\n",
            "35/35 [==============================] - 1s 18ms/step - loss: 0.6726 - accuracy: 0.7780 - f_score: 1.9829\n",
            "Epoch 4/50\n",
            "35/35 [==============================] - 1s 18ms/step - loss: 0.5724 - accuracy: 0.8317 - f_score: 1.9840\n",
            "Epoch 5/50\n",
            "35/35 [==============================] - 1s 19ms/step - loss: 0.6345 - accuracy: 0.7807 - f_score: 2.0083\n",
            "Epoch 6/50\n",
            "35/35 [==============================] - 1s 18ms/step - loss: 0.6142 - accuracy: 0.8053 - f_score: 1.9789\n",
            "Epoch 7/50\n",
            "35/35 [==============================] - 1s 18ms/step - loss: 0.5974 - accuracy: 0.8153 - f_score: 1.9946\n",
            "Epoch 8/50\n",
            "35/35 [==============================] - 1s 18ms/step - loss: 0.5635 - accuracy: 0.8253 - f_score: 1.9877\n",
            "Epoch 9/50\n",
            "35/35 [==============================] - 1s 18ms/step - loss: 0.5991 - accuracy: 0.8171 - f_score: 1.9876\n",
            "Epoch 10/50\n",
            "35/35 [==============================] - 1s 19ms/step - loss: 0.6227 - accuracy: 0.7889 - f_score: 2.0009\n",
            "Epoch 11/50\n",
            "35/35 [==============================] - 1s 18ms/step - loss: 0.6281 - accuracy: 0.7980 - f_score: 2.0356\n",
            "Epoch 12/50\n",
            "35/35 [==============================] - 1s 29ms/step - loss: 0.6046 - accuracy: 0.7898 - f_score: 1.9841\n",
            "Epoch 13/50\n",
            "35/35 [==============================] - 1s 18ms/step - loss: 0.5474 - accuracy: 0.8162 - f_score: 2.0206\n",
            "Epoch 14/50\n",
            "35/35 [==============================] - 1s 19ms/step - loss: 0.5686 - accuracy: 0.8107 - f_score: 2.0126\n",
            "Epoch 15/50\n",
            "35/35 [==============================] - 1s 19ms/step - loss: 0.5253 - accuracy: 0.8262 - f_score: 2.0076\n",
            "Epoch 16/50\n",
            "35/35 [==============================] - 1s 18ms/step - loss: 0.5367 - accuracy: 0.8308 - f_score: 1.9906\n",
            "Epoch 17/50\n",
            "35/35 [==============================] - 1s 19ms/step - loss: 0.5288 - accuracy: 0.8326 - f_score: 2.0003\n",
            "Epoch 18/50\n",
            "35/35 [==============================] - 1s 18ms/step - loss: 0.5032 - accuracy: 0.8271 - f_score: 1.9827\n",
            "Epoch 19/50\n",
            "35/35 [==============================] - 1s 19ms/step - loss: 0.5174 - accuracy: 0.8326 - f_score: 1.9616\n",
            "Epoch 20/50\n",
            "35/35 [==============================] - 1s 19ms/step - loss: 0.5471 - accuracy: 0.8162 - f_score: 1.9867\n",
            "Epoch 21/50\n",
            "35/35 [==============================] - 1s 19ms/step - loss: 0.5266 - accuracy: 0.8180 - f_score: 2.0170\n",
            "Epoch 22/50\n",
            "35/35 [==============================] - 1s 27ms/step - loss: 0.5411 - accuracy: 0.8198 - f_score: 1.9631\n",
            "Epoch 23/50\n",
            "35/35 [==============================] - 1s 29ms/step - loss: 0.5063 - accuracy: 0.8344 - f_score: 1.9770\n",
            "Epoch 24/50\n",
            "35/35 [==============================] - 1s 23ms/step - loss: 0.5264 - accuracy: 0.8189 - f_score: 1.9790\n",
            "Epoch 25/50\n",
            "35/35 [==============================] - 1s 21ms/step - loss: 0.5093 - accuracy: 0.8371 - f_score: 1.9795\n",
            "Epoch 26/50\n",
            "35/35 [==============================] - 1s 33ms/step - loss: 0.5149 - accuracy: 0.8362 - f_score: 1.9986\n",
            "Epoch 27/50\n",
            "35/35 [==============================] - 1s 32ms/step - loss: 0.4788 - accuracy: 0.8517 - f_score: 1.9876\n",
            "Epoch 28/50\n",
            "35/35 [==============================] - 1s 20ms/step - loss: 0.4628 - accuracy: 0.8471 - f_score: 1.9540\n",
            "Epoch 29/50\n",
            "35/35 [==============================] - 1s 18ms/step - loss: 0.4567 - accuracy: 0.8453 - f_score: 1.9611\n",
            "Epoch 30/50\n",
            "35/35 [==============================] - 1s 19ms/step - loss: 0.4735 - accuracy: 0.8362 - f_score: 1.9713\n",
            "Epoch 31/50\n",
            "35/35 [==============================] - 1s 18ms/step - loss: 0.4577 - accuracy: 0.8599 - f_score: 1.9679\n",
            "Epoch 32/50\n",
            "35/35 [==============================] - 1s 18ms/step - loss: 0.4623 - accuracy: 0.8508 - f_score: 1.9510\n",
            "Epoch 33/50\n",
            "35/35 [==============================] - 1s 18ms/step - loss: 0.4461 - accuracy: 0.8535 - f_score: 1.9605\n",
            "Epoch 34/50\n",
            "35/35 [==============================] - 1s 18ms/step - loss: 0.4478 - accuracy: 0.8562 - f_score: 1.9731\n",
            "Epoch 35/50\n",
            "35/35 [==============================] - 1s 18ms/step - loss: 0.4223 - accuracy: 0.8644 - f_score: 1.9564\n",
            "Epoch 36/50\n",
            "35/35 [==============================] - 1s 19ms/step - loss: 0.4394 - accuracy: 0.8499 - f_score: 1.9394\n",
            "Epoch 37/50\n",
            "35/35 [==============================] - 1s 19ms/step - loss: 0.4933 - accuracy: 0.8180 - f_score: 1.9436\n",
            "Epoch 38/50\n",
            "35/35 [==============================] - 1s 19ms/step - loss: 0.4322 - accuracy: 0.8490 - f_score: 1.9600\n",
            "Epoch 39/50\n",
            "35/35 [==============================] - 1s 19ms/step - loss: 0.4374 - accuracy: 0.8517 - f_score: 1.9350\n",
            "Epoch 40/50\n",
            "35/35 [==============================] - 1s 19ms/step - loss: 0.4125 - accuracy: 0.8581 - f_score: 1.9343\n",
            "Epoch 41/50\n",
            "35/35 [==============================] - 1s 19ms/step - loss: 0.4141 - accuracy: 0.8672 - f_score: 1.9370\n",
            "Epoch 42/50\n",
            "35/35 [==============================] - 1s 19ms/step - loss: 0.4099 - accuracy: 0.8699 - f_score: 1.9341\n",
            "Epoch 43/50\n",
            "35/35 [==============================] - 1s 19ms/step - loss: 0.3626 - accuracy: 0.8799 - f_score: 1.9131\n",
            "Epoch 44/50\n",
            "35/35 [==============================] - 1s 19ms/step - loss: 0.3548 - accuracy: 0.8954 - f_score: 1.9328\n",
            "Epoch 45/50\n",
            "35/35 [==============================] - 1s 19ms/step - loss: 0.3396 - accuracy: 0.8935 - f_score: 1.9186\n",
            "Epoch 46/50\n",
            "35/35 [==============================] - 1s 20ms/step - loss: 0.3711 - accuracy: 0.8699 - f_score: 1.9225\n",
            "Epoch 47/50\n",
            "35/35 [==============================] - 1s 19ms/step - loss: 0.3671 - accuracy: 0.8799 - f_score: 1.9142\n",
            "Epoch 48/50\n",
            "35/35 [==============================] - 1s 19ms/step - loss: 0.4085 - accuracy: 0.8699 - f_score: 1.9117\n",
            "Epoch 49/50\n",
            "35/35 [==============================] - 1s 18ms/step - loss: 0.4500 - accuracy: 0.8471 - f_score: 1.9326\n",
            "Epoch 50/50\n",
            "35/35 [==============================] - 1s 18ms/step - loss: 0.3756 - accuracy: 0.8662 - f_score: 1.9280\n",
            "18/18 [==============================] - 0s 7ms/step - loss: 0.5094 - accuracy: 0.8291 - f_score: 1.9577\n",
            "Epoch 1/50\n",
            "35/35 [==============================] - 1s 19ms/step - loss: 0.4950 - accuracy: 0.8245 - f_score: 1.9521\n",
            "Epoch 2/50\n",
            "35/35 [==============================] - 1s 19ms/step - loss: 0.4895 - accuracy: 0.8355 - f_score: 1.9410\n",
            "Epoch 3/50\n",
            "35/35 [==============================] - 1s 20ms/step - loss: 0.5592 - accuracy: 0.8009 - f_score: 1.9380\n",
            "Epoch 4/50\n",
            "35/35 [==============================] - 1s 28ms/step - loss: 0.5334 - accuracy: 0.8173 - f_score: 1.9677\n",
            "Epoch 5/50\n",
            "35/35 [==============================] - 1s 27ms/step - loss: 0.4366 - accuracy: 0.8536 - f_score: 1.9699\n",
            "Epoch 6/50\n",
            "35/35 [==============================] - 1s 28ms/step - loss: 0.4879 - accuracy: 0.8345 - f_score: 1.9359\n",
            "Epoch 7/50\n",
            "35/35 [==============================] - 1s 28ms/step - loss: 0.4762 - accuracy: 0.8482 - f_score: 1.9383\n",
            "Epoch 8/50\n",
            "35/35 [==============================] - 1s 28ms/step - loss: 0.4145 - accuracy: 0.8655 - f_score: 1.9766\n",
            "Epoch 9/50\n",
            "35/35 [==============================] - 1s 20ms/step - loss: 0.4563 - accuracy: 0.8491 - f_score: 1.9476\n",
            "Epoch 10/50\n",
            "35/35 [==============================] - 1s 19ms/step - loss: 0.4705 - accuracy: 0.8391 - f_score: 1.9444\n",
            "Epoch 11/50\n",
            "35/35 [==============================] - 1s 19ms/step - loss: 0.3981 - accuracy: 0.8673 - f_score: 1.9552\n",
            "Epoch 12/50\n",
            "35/35 [==============================] - 1s 18ms/step - loss: 0.3962 - accuracy: 0.8709 - f_score: 1.9487\n",
            "Epoch 13/50\n",
            "35/35 [==============================] - 1s 19ms/step - loss: 0.4155 - accuracy: 0.8564 - f_score: 1.9508\n",
            "Epoch 14/50\n",
            "35/35 [==============================] - 1s 19ms/step - loss: 0.4182 - accuracy: 0.8645 - f_score: 1.9555\n",
            "Epoch 15/50\n",
            "35/35 [==============================] - 1s 19ms/step - loss: 0.3939 - accuracy: 0.8582 - f_score: 1.9231\n",
            "Epoch 16/50\n",
            "35/35 [==============================] - 1s 19ms/step - loss: 0.3828 - accuracy: 0.8736 - f_score: 1.9336\n",
            "Epoch 17/50\n",
            "35/35 [==============================] - 1s 19ms/step - loss: 0.4100 - accuracy: 0.8736 - f_score: 1.9491\n",
            "Epoch 18/50\n",
            "35/35 [==============================] - 1s 18ms/step - loss: 0.4077 - accuracy: 0.8618 - f_score: 1.9380\n",
            "Epoch 19/50\n",
            "35/35 [==============================] - 1s 19ms/step - loss: 0.3667 - accuracy: 0.8755 - f_score: 1.9468\n",
            "Epoch 20/50\n",
            "35/35 [==============================] - 1s 18ms/step - loss: 0.3456 - accuracy: 0.8864 - f_score: 1.9161\n",
            "Epoch 21/50\n",
            "35/35 [==============================] - 1s 19ms/step - loss: 0.3716 - accuracy: 0.8718 - f_score: 1.9274\n",
            "Epoch 22/50\n",
            "35/35 [==============================] - 1s 19ms/step - loss: 0.3634 - accuracy: 0.8709 - f_score: 1.9131\n",
            "Epoch 23/50\n",
            "35/35 [==============================] - 1s 18ms/step - loss: 0.3500 - accuracy: 0.8755 - f_score: 1.9310\n",
            "Epoch 24/50\n",
            "35/35 [==============================] - 1s 19ms/step - loss: 0.3441 - accuracy: 0.8818 - f_score: 1.9104\n",
            "Epoch 25/50\n",
            "35/35 [==============================] - 1s 19ms/step - loss: 0.3776 - accuracy: 0.8645 - f_score: 1.9284\n",
            "Epoch 26/50\n",
            "35/35 [==============================] - 1s 18ms/step - loss: 0.3896 - accuracy: 0.8655 - f_score: 1.9080\n",
            "Epoch 27/50\n",
            "35/35 [==============================] - 1s 19ms/step - loss: 0.3644 - accuracy: 0.8800 - f_score: 1.9269\n",
            "Epoch 28/50\n",
            "35/35 [==============================] - 1s 19ms/step - loss: 0.3535 - accuracy: 0.8882 - f_score: 1.8940\n",
            "Epoch 29/50\n",
            "35/35 [==============================] - 1s 18ms/step - loss: 0.3515 - accuracy: 0.8864 - f_score: 1.8938\n",
            "Epoch 30/50\n",
            "35/35 [==============================] - 1s 19ms/step - loss: 0.3470 - accuracy: 0.8855 - f_score: 1.9208\n",
            "Epoch 31/50\n",
            "35/35 [==============================] - 1s 19ms/step - loss: 0.3650 - accuracy: 0.8782 - f_score: 1.9162\n",
            "Epoch 32/50\n",
            "35/35 [==============================] - 1s 18ms/step - loss: 0.3576 - accuracy: 0.8791 - f_score: 1.8993\n",
            "Epoch 33/50\n",
            "35/35 [==============================] - 1s 19ms/step - loss: 0.3019 - accuracy: 0.8955 - f_score: 1.8978\n",
            "Epoch 34/50\n",
            "35/35 [==============================] - 1s 18ms/step - loss: 0.3235 - accuracy: 0.8936 - f_score: 1.9104\n",
            "Epoch 35/50\n",
            "35/35 [==============================] - 1s 19ms/step - loss: 0.3207 - accuracy: 0.8936 - f_score: 1.9102\n",
            "Epoch 36/50\n",
            "35/35 [==============================] - 1s 19ms/step - loss: 0.2874 - accuracy: 0.9018 - f_score: 1.8778\n",
            "Epoch 37/50\n",
            "35/35 [==============================] - 1s 18ms/step - loss: 0.2968 - accuracy: 0.8982 - f_score: 1.9071\n",
            "Epoch 38/50\n",
            "35/35 [==============================] - 1s 19ms/step - loss: 0.3005 - accuracy: 0.8964 - f_score: 1.8875\n",
            "Epoch 39/50\n",
            "35/35 [==============================] - 1s 18ms/step - loss: 0.2885 - accuracy: 0.9009 - f_score: 1.8671\n",
            "Epoch 40/50\n",
            "35/35 [==============================] - 1s 18ms/step - loss: 0.3023 - accuracy: 0.8927 - f_score: 1.8793\n",
            "Epoch 41/50\n",
            "35/35 [==============================] - 1s 19ms/step - loss: 0.2953 - accuracy: 0.8936 - f_score: 1.8749\n",
            "Epoch 42/50\n",
            "35/35 [==============================] - 1s 19ms/step - loss: 0.2904 - accuracy: 0.8991 - f_score: 1.8719\n",
            "Epoch 43/50\n",
            "35/35 [==============================] - 1s 19ms/step - loss: 0.2722 - accuracy: 0.9109 - f_score: 1.8717\n",
            "Epoch 44/50\n",
            "35/35 [==============================] - 1s 19ms/step - loss: 0.2929 - accuracy: 0.8964 - f_score: 1.8775\n",
            "Epoch 45/50\n",
            "35/35 [==============================] - 1s 19ms/step - loss: 0.2810 - accuracy: 0.9036 - f_score: 1.8844\n",
            "Epoch 46/50\n",
            "35/35 [==============================] - 1s 18ms/step - loss: 0.2584 - accuracy: 0.9200 - f_score: 1.8594\n",
            "Epoch 47/50\n",
            "35/35 [==============================] - 1s 19ms/step - loss: 0.2631 - accuracy: 0.9173 - f_score: 1.8553\n",
            "Epoch 48/50\n",
            "35/35 [==============================] - 1s 19ms/step - loss: 0.3034 - accuracy: 0.8864 - f_score: 1.8662\n",
            "Epoch 49/50\n",
            "35/35 [==============================] - 1s 19ms/step - loss: 0.2771 - accuracy: 0.9118 - f_score: 1.8601\n",
            "Epoch 50/50\n",
            "35/35 [==============================] - 1s 19ms/step - loss: 0.2701 - accuracy: 0.8991 - f_score: 1.8733\n",
            "18/18 [==============================] - 0s 7ms/step - loss: 0.3284 - accuracy: 0.8889 - f_score: 1.9154\n"
          ]
        }
      ]
    },
    {
      "cell_type": "code",
      "source": [
        "print(scoresNN2)\n"
      ],
      "metadata": {
        "colab": {
          "base_uri": "https://localhost:8080/"
        },
        "id": "hKNQtN5c4kA2",
        "outputId": "cc713d0b-e7cf-444d-f5f8-d84b7a6b8357"
      },
      "execution_count": 108,
      "outputs": [
        {
          "output_type": "stream",
          "name": "stdout",
          "text": [
            "[[0.776707649230957, 0.7690908908843994, 1.9870457649230957], [0.5093985199928284, 0.8290908932685852, 1.9577386379241943], [0.32836490869522095, 0.8888888955116272, 1.915360927581787]]\n"
          ]
        }
      ]
    },
    {
      "cell_type": "code",
      "source": [
        "from sklearn.svm import SVC\n",
        "svm=SVC()\n",
        "svm.fit(x_train,y_train)\n",
        "svm.score(x_test,y_test)\n"
      ],
      "metadata": {
        "colab": {
          "base_uri": "https://localhost:8080/"
        },
        "id": "3HbR4AhHksSx",
        "outputId": "8b98ce90-b45a-409b-dc60-64c8799376dd"
      },
      "execution_count": 22,
      "outputs": [
        {
          "output_type": "execute_result",
          "data": {
            "text/plain": [
              "0.8329297820823245"
            ]
          },
          "metadata": {},
          "execution_count": 22
        }
      ]
    },
    {
      "cell_type": "markdown",
      "source": [
        "# **RGB WITH CNN**"
      ],
      "metadata": {
        "id": "D7vgLJCRopKS"
      }
    },
    {
      "cell_type": "code",
      "source": [
        "################################################RGB################################"
      ],
      "metadata": {
        "id": "qNVm-HjSl1jD"
      },
      "execution_count": null,
      "outputs": []
    },
    {
      "cell_type": "code",
      "source": [
        "dataset_path = \"/content/drive/MyDrive/Dataset\"\n",
        "def get_img(dataset_path):\n",
        "    img = imread(dataset_path)\n",
        "    img = resize(img, (64, 64,3))\n",
        "    return img"
      ],
      "metadata": {
        "id": "xqyDSQwnw6IZ"
      },
      "execution_count": 23,
      "outputs": []
    },
    {
      "cell_type": "code",
      "source": [
        "labels = listdir(dataset_path) # Geting labels\n",
        "X = []\n",
        "Y = []\n",
        "for i, label in enumerate(labels):\n",
        "    datas_path = dataset_path+'/'+label\n",
        "    for data in listdir(datas_path):\n",
        "        img = get_img(datas_path + '/' + data)\n",
        "        X.append(img)\n",
        "        Y.append(i)\n",
        "X = np.array(X).astype('float32')\n",
        "Y = np.array(Y).astype('float32')\n",
        "X*=255.0\n",
        "mean_x=X.mean()\n",
        "x_train2, x_test2, y_train2, y_test2 = train_test_split(X, Y, test_size=0.2, random_state=42)\n",
        "\n",
        "x_train2 = x_train2 -mean_x\n",
        "x_train2 /=255.0\n",
        "x_test2 = x_test2 -mean_x\n",
        "x_test2 /=255.0\n",
        "\n",
        "print(x_train2.shape)"
      ],
      "metadata": {
        "colab": {
          "base_uri": "https://localhost:8080/"
        },
        "id": "-5i1Mbkdw907",
        "outputId": "bfdc6012-3925-4840-a467-12c5c5399d5b"
      },
      "execution_count": 47,
      "outputs": [
        {
          "output_type": "stream",
          "name": "stdout",
          "text": [
            "(1649, 64, 64, 3)\n"
          ]
        }
      ]
    },
    {
      "cell_type": "code",
      "source": [
        "def CNN():\n",
        "\n",
        "      model = keras.Sequential([\n",
        "          \n",
        "           keras.layers.Conv2D(filters=32, kernel_size=(4, 4), activation='relu', input_shape=(64, 64 ,3)),\n",
        "           keras.layers.MaxPooling2D((2, 2)),\n",
        "          \n",
        "           keras.layers.Conv2D(filters=64, kernel_size=(3, 3), activation='relu'),\n",
        "           keras.layers.MaxPooling2D((2, 2)),\n",
        "          \n",
        "           keras.layers.Flatten(),\n",
        "           keras.layers.Dense(64, activation='relu'),\n",
        "           keras.layers.Dense(10, activation='sigmoid')\n",
        "      ])\n",
        "\n",
        "      model.compile(optimizer='adam',\n",
        "                    loss='sparse_categorical_crossentropy',\n",
        "                    metrics=['accuracy',f_score,precision_m, recall_m])\n",
        "      return model\n"
      ],
      "metadata": {
        "id": "EIW5bJkXzYbz"
      },
      "execution_count": 117,
      "outputs": []
    },
    {
      "cell_type": "code",
      "source": [
        "cnn=CNN()\n",
        "cnn.fit(x_train2,y_train2,epochs=5)\n",
        "cnn.evaluate(x_test2,y_test2)"
      ],
      "metadata": {
        "colab": {
          "base_uri": "https://localhost:8080/"
        },
        "id": "9eZSGW9R0-mB",
        "outputId": "009e82a3-f8b5-4060-a55a-b62c2dd6bf1c"
      },
      "execution_count": 119,
      "outputs": [
        {
          "output_type": "stream",
          "name": "stdout",
          "text": [
            "Epoch 1/5\n",
            "52/52 [==============================] - 10s 174ms/step - loss: 1.4082 - accuracy: 0.5167 - f_score: 3.0043 - precision_m: 1.8571 - recall_m: 7.9808\n",
            "Epoch 2/5\n",
            "52/52 [==============================] - 9s 176ms/step - loss: 0.5557 - accuracy: 0.8217 - f_score: 2.4746 - precision_m: 1.5947 - recall_m: 5.5668\n",
            "Epoch 3/5\n",
            "52/52 [==============================] - 9s 176ms/step - loss: 0.3814 - accuracy: 0.8787 - f_score: 2.3534 - precision_m: 1.4851 - recall_m: 5.7175\n",
            "Epoch 4/5\n",
            "52/52 [==============================] - 9s 177ms/step - loss: 0.2058 - accuracy: 0.9424 - f_score: 2.1423 - precision_m: 1.3596 - recall_m: 5.0859\n",
            "Epoch 5/5\n",
            "52/52 [==============================] - 9s 174ms/step - loss: 0.1286 - accuracy: 0.9624 - f_score: 2.0533 - precision_m: 1.3073 - recall_m: 4.8164\n",
            "13/13 [==============================] - 1s 50ms/step - loss: 0.4333 - accuracy: 0.8789 - f_score: 1.9274 - precision_m: 1.2206 - recall_m: 4.5994\n"
          ]
        },
        {
          "output_type": "execute_result",
          "data": {
            "text/plain": [
              "[0.4332619309425354,\n",
              " 0.8789346218109131,\n",
              " 1.9274147748947144,\n",
              " 1.2206456661224365,\n",
              " 4.599366664886475]"
            ]
          },
          "metadata": {},
          "execution_count": 119
        }
      ]
    },
    {
      "cell_type": "code",
      "source": [
        "def cross_valid2(x_values, y_values, k=5 ,Model = CNN()):\n",
        "      scores = list()\n",
        "      kfold = KFold(k, shuffle=True, random_state=1)\n",
        "      for train_ix, test_ix in kfold.split(x_values):\n",
        "        trainX, trainY, testX, testY = x_values[train_ix], y_values[train_ix], x_values[test_ix], y_values[test_ix]\n",
        "        crossValidation = Model\n",
        "        crossValidation.fit(trainX, trainY, epochs=10)\n",
        "        acc = crossValidation.evaluate(testX,testY)\n",
        "        scores.append(acc)\n",
        "      return scores,"
      ],
      "metadata": {
        "id": "8z5sgmYd3TYe"
      },
      "execution_count": 121,
      "outputs": []
    },
    {
      "cell_type": "code",
      "source": [
        "scoresCNN = cross_valid2(x_train2,y_train2,3,cnn)\n"
      ],
      "metadata": {
        "colab": {
          "base_uri": "https://localhost:8080/"
        },
        "id": "J7ULUclF9iPQ",
        "outputId": "b5be8b20-1eb9-4e00-eb7c-7c1e29383198"
      },
      "execution_count": 122,
      "outputs": [
        {
          "output_type": "stream",
          "name": "stdout",
          "text": [
            "Epoch 1/10\n",
            "35/35 [==============================] - 6s 177ms/step - loss: 0.0747 - accuracy: 0.9791 - f_score: 2.0273 - precision_m: 1.2907 - recall_m: 4.7609\n",
            "Epoch 2/10\n",
            "35/35 [==============================] - 6s 177ms/step - loss: 0.0339 - accuracy: 0.9854 - f_score: 1.9363 - precision_m: 1.2438 - recall_m: 4.3989\n",
            "Epoch 3/10\n",
            "35/35 [==============================] - 6s 175ms/step - loss: 0.0134 - accuracy: 0.9891 - f_score: 1.9018 - precision_m: 1.2147 - recall_m: 4.4148\n",
            "Epoch 4/10\n",
            "35/35 [==============================] - 6s 177ms/step - loss: 0.0149 - accuracy: 0.9836 - f_score: 1.8571 - precision_m: 1.1778 - recall_m: 4.4117\n",
            "Epoch 5/10\n",
            "35/35 [==============================] - 6s 177ms/step - loss: 0.0048 - accuracy: 0.9827 - f_score: 1.8260 - precision_m: 1.1621 - recall_m: 4.2823\n",
            "Epoch 6/10\n",
            "35/35 [==============================] - 6s 176ms/step - loss: 0.0020 - accuracy: 0.9809 - f_score: 1.8006 - precision_m: 1.1505 - recall_m: 4.1650\n",
            "Epoch 7/10\n",
            "35/35 [==============================] - 8s 244ms/step - loss: 0.0015 - accuracy: 0.9754 - f_score: 1.7982 - precision_m: 1.1498 - recall_m: 4.1567\n",
            "Epoch 8/10\n",
            "35/35 [==============================] - 6s 178ms/step - loss: 0.0011 - accuracy: 0.9727 - f_score: 1.7780 - precision_m: 1.1360 - recall_m: 4.1186\n",
            "Epoch 9/10\n",
            "35/35 [==============================] - 6s 178ms/step - loss: 9.0837e-04 - accuracy: 0.9718 - f_score: 1.7734 - precision_m: 1.1361 - recall_m: 4.0862\n",
            "Epoch 10/10\n",
            "35/35 [==============================] - 6s 180ms/step - loss: 7.9129e-04 - accuracy: 0.9700 - f_score: 1.7628 - precision_m: 1.1254 - recall_m: 4.0872\n",
            "18/18 [==============================] - 1s 52ms/step - loss: 0.1066 - accuracy: 0.9618 - f_score: 1.7004 - precision_m: 1.0687 - recall_m: 4.1773\n",
            "Epoch 1/10\n",
            "35/35 [==============================] - 6s 175ms/step - loss: 0.1005 - accuracy: 0.9609 - f_score: 1.8256 - precision_m: 1.1407 - recall_m: 4.6246\n",
            "Epoch 2/10\n",
            "35/35 [==============================] - 6s 175ms/step - loss: 0.1038 - accuracy: 0.9591 - f_score: 1.9030 - precision_m: 1.1805 - recall_m: 4.9468\n",
            "Epoch 3/10\n",
            "35/35 [==============================] - 6s 174ms/step - loss: 0.0224 - accuracy: 0.9864 - f_score: 1.8779 - precision_m: 1.1755 - recall_m: 4.7128\n",
            "Epoch 4/10\n",
            "35/35 [==============================] - 6s 180ms/step - loss: 0.0130 - accuracy: 0.9827 - f_score: 1.7539 - precision_m: 1.1016 - recall_m: 4.3278\n",
            "Epoch 5/10\n",
            "35/35 [==============================] - 6s 179ms/step - loss: 0.0039 - accuracy: 0.9845 - f_score: 1.7664 - precision_m: 1.1117 - recall_m: 4.3290\n",
            "Epoch 6/10\n",
            "35/35 [==============================] - 6s 176ms/step - loss: 0.0011 - accuracy: 0.9809 - f_score: 1.7444 - precision_m: 1.0955 - recall_m: 4.3132\n",
            "Epoch 7/10\n",
            "35/35 [==============================] - 8s 240ms/step - loss: 7.6026e-04 - accuracy: 0.9754 - f_score: 1.7399 - precision_m: 1.0977 - recall_m: 4.2265\n",
            "Epoch 8/10\n",
            "35/35 [==============================] - 6s 175ms/step - loss: 5.9650e-04 - accuracy: 0.9736 - f_score: 1.7405 - precision_m: 1.0980 - recall_m: 4.2270\n",
            "Epoch 9/10\n",
            "35/35 [==============================] - 6s 174ms/step - loss: 4.9707e-04 - accuracy: 0.9709 - f_score: 1.7240 - precision_m: 1.0850 - recall_m: 4.2254\n",
            "Epoch 10/10\n",
            "35/35 [==============================] - 6s 175ms/step - loss: 4.2488e-04 - accuracy: 0.9682 - f_score: 1.7272 - precision_m: 1.0882 - recall_m: 4.2104\n",
            "18/18 [==============================] - 1s 49ms/step - loss: 0.0224 - accuracy: 0.9545 - f_score: 1.7375 - precision_m: 1.1072 - recall_m: 4.0561\n",
            "Epoch 1/10\n",
            "35/35 [==============================] - 6s 177ms/step - loss: 0.0253 - accuracy: 0.9700 - f_score: 1.7201 - precision_m: 1.0927 - recall_m: 4.0729\n",
            "Epoch 2/10\n",
            "35/35 [==============================] - 6s 179ms/step - loss: 0.0165 - accuracy: 0.9745 - f_score: 1.7459 - precision_m: 1.1000 - recall_m: 4.2546\n",
            "Epoch 3/10\n",
            "35/35 [==============================] - 6s 177ms/step - loss: 0.0124 - accuracy: 0.9682 - f_score: 1.7359 - precision_m: 1.0966 - recall_m: 4.1886\n",
            "Epoch 4/10\n",
            "35/35 [==============================] - 6s 177ms/step - loss: 0.0024 - accuracy: 0.9682 - f_score: 1.7127 - precision_m: 1.0819 - recall_m: 4.1390\n",
            "Epoch 5/10\n",
            "35/35 [==============================] - 6s 178ms/step - loss: 0.0012 - accuracy: 0.9655 - f_score: 1.7162 - precision_m: 1.0850 - recall_m: 4.1276\n",
            "Epoch 6/10\n",
            "35/35 [==============================] - 6s 177ms/step - loss: 8.8080e-04 - accuracy: 0.9600 - f_score: 1.6989 - precision_m: 1.0759 - recall_m: 4.0763\n",
            "Epoch 7/10\n",
            "35/35 [==============================] - 8s 243ms/step - loss: 3.4727e-04 - accuracy: 0.9564 - f_score: 1.6990 - precision_m: 1.0753 - recall_m: 4.0659\n",
            "Epoch 8/10\n",
            "35/35 [==============================] - 6s 178ms/step - loss: 2.4414e-04 - accuracy: 0.9564 - f_score: 1.6961 - precision_m: 1.0751 - recall_m: 4.0520\n",
            "Epoch 9/10\n",
            "35/35 [==============================] - 6s 177ms/step - loss: 2.0952e-04 - accuracy: 0.9545 - f_score: 1.6873 - precision_m: 1.0683 - recall_m: 4.0257\n",
            "Epoch 10/10\n",
            "35/35 [==============================] - 6s 179ms/step - loss: 1.8284e-04 - accuracy: 0.9545 - f_score: 1.6823 - precision_m: 1.0657 - recall_m: 4.0230\n",
            "18/18 [==============================] - 1s 52ms/step - loss: 0.0098 - accuracy: 0.9435 - f_score: 1.6925 - precision_m: 1.0768 - recall_m: 3.9907\n"
          ]
        }
      ]
    },
    {
      "cell_type": "code",
      "source": [
        "from sklearn.svm import SVC\n",
        "x_train2  = x_train2.reshape(len(x_train2),64*64*3)\n",
        "x_test2 = x_test2.reshape(len(x_test2),64*64*3)\n",
        "svm=SVC()\n",
        "svm.fit(x_train2,y_train2)\n",
        "svm.score(x_test2,y_test2)"
      ],
      "metadata": {
        "colab": {
          "base_uri": "https://localhost:8080/"
        },
        "id": "TFsD-6Zq_dnC",
        "outputId": "4a032f6b-1017-49c1-8b18-1245b24eb3c2"
      },
      "execution_count": 43,
      "outputs": [
        {
          "output_type": "execute_result",
          "data": {
            "text/plain": [
              "0.837772397094431"
            ]
          },
          "metadata": {},
          "execution_count": 43
        }
      ]
    }
  ]
}